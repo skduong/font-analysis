{
  "nbformat": 4,
  "nbformat_minor": 0,
  "metadata": {
    "colab": {
      "name": "Untitled1.ipynb",
      "provenance": [],
      "toc_visible": true,
      "include_colab_link": true
    },
    "kernelspec": {
      "name": "python3",
      "display_name": "Python 3"
    },
    "language_info": {
      "name": "python"
    }
  },
  "cells": [
    {
      "cell_type": "markdown",
      "metadata": {
        "id": "view-in-github",
        "colab_type": "text"
      },
      "source": [
        "<a href=\"https://colab.research.google.com/github/sul01/MSDS-CODE/blob/master/hw3/hw3.ipynb\" target=\"_parent\"><img src=\"https://colab.research.google.com/assets/colab-badge.svg\" alt=\"Open In Colab\"/></a>"
      ]
    },
    {
      "cell_type": "markdown",
      "metadata": {
        "id": "NayBKnJGkSH1"
      },
      "source": [
        "#Preprocessing"
      ]
    },
    {
      "cell_type": "code",
      "metadata": {
        "id": "fO8T1ISW8cOF"
      },
      "source": [
        "import numpy as np\n",
        "import pandas as pd\n",
        "import matplotlib.pyplot as plt\n",
        "\n",
        "#loading\n",
        "BITSTREAMVERA = pd.read_csv(\"https://raw.githubusercontent.com/CharlesColgan/MSDS-6350-6373-CODE/master/hw2/BITSTREAMVERA.csv\")\n",
        "CENTURY = pd.read_csv('https://raw.githubusercontent.com/sul01/MSDS-CODE/master/hw3/CENTURY.csv')\n",
        "CONSOLAS = pd.read_csv(\"https://raw.githubusercontent.com/CharlesColgan/MSDS-6350-6373-CODE/master/hw2/CONSOLAS.csv\")\n",
        "EBRIMA = pd.read_csv(\"https://raw.githubusercontent.com/CharlesColgan/MSDS-6350-6373-CODE/master/hw2/EBRIMA.csv\")\n",
        "GILL = pd.read_csv('https://raw.githubusercontent.com/sul01/MSDS-CODE/master/hw3/GILL.csv')\n",
        "\n",
        "#cleaning\n",
        "drop_names = [\"fontVariant\",\"m_label\",\"orientation\",\"m_top\",\"m_left\",\"originalH\",\"originalW\",\"h\",\"w\"]\n",
        "FONT = [BITSTREAMVERA, CENTURY, CONSOLAS, EBRIMA, GILL]; CL = []\n",
        "for i in range(5):\n",
        "  CL.append(FONT[i][(FONT[i]['strength']==0.4) & (FONT[i]['italic']==0)].drop(drop_names,axis=1))\n",
        "\n",
        "#transforming\n",
        "def fontToMatrix(font, df):\n",
        "  for case in range(df.shape[0]):\n",
        "    font[case] =  np.array(df[df.columns[3:]].iloc[case]).reshape(20,20)\n",
        "\n",
        "FONT_mat = [] #font as 20x20 matrix\n",
        "for i in range(5):\n",
        "  FONT_mat.append(np.empty((CL[i].shape[0],20,20), int))\n",
        "  fontToMatrix(FONT_mat[i], CL[i])"
      ],
      "execution_count": 1,
      "outputs": []
    },
    {
      "cell_type": "markdown",
      "metadata": {
        "id": "UjTroxPPkW5D"
      },
      "source": [
        "Examples"
      ]
    },
    {
      "cell_type": "code",
      "metadata": {
        "id": "SAVenXDYeZma",
        "colab": {
          "base_uri": "https://localhost:8080/",
          "height": 1000
        },
        "outputId": "fecc5aeb-4c7b-4a36-f3e2-e03c9951cf1c"
      },
      "source": [
        "print('Bitstream\\n'); plt.imshow(FONT_mat[0][8], cmap=plt.cm.binary); plt.show() \n",
        "print('Century\\n'); plt.imshow(FONT_mat[1][199], cmap=plt.cm.binary); plt.show() \n",
        "print('Consolas\\n'); plt.imshow(FONT_mat[2][26], cmap=plt.cm.binary); plt.show() \n",
        "print('Ebrima\\n'); plt.imshow(FONT_mat[3][1387], cmap=plt.cm.binary); plt.show() \n",
        "print('Gill\\n'); plt.imshow(FONT_mat[4][243], cmap=plt.cm.binary); plt.show() "
      ],
      "execution_count": 2,
      "outputs": [
        {
          "output_type": "stream",
          "text": [
            "Bitstream\n",
            "\n"
          ],
          "name": "stdout"
        },
        {
          "output_type": "display_data",
          "data": {
            "image/png": "[encoded data removed]",
            "text/plain": [
              "<Figure size 432x288 with 1 Axes>"
            ]
          },
          "metadata": {
            "tags": [],
            "needs_background": "light"
          }
        },
        {
          "output_type": "stream",
          "text": [
            "Century\n",
            "\n"
          ],
          "name": "stdout"
        },
        {
          "output_type": "display_data",
          "data": {
            "image/png": "[encoded data removed]",
            "text/plain": [
              "<Figure size 432x288 with 1 Axes>"
            ]
          },
          "metadata": {
            "tags": [],
            "needs_background": "light"
          }
        },
        {
          "output_type": "stream",
          "text": [
            "Consolas\n",
            "\n"
          ],
          "name": "stdout"
        },
        {
          "output_type": "display_data",
          "data": {
            "image/png": "[encoded data removed]",
            "text/plain": [
              "<Figure size 432x288 with 1 Axes>"
            ]
          },
          "metadata": {
            "tags": [],
            "needs_background": "light"
          }
        },
        {
          "output_type": "stream",
          "text": [
            "Ebrima\n",
            "\n"
          ],
          "name": "stdout"
        },
        {
          "output_type": "display_data",
          "data": {
            "image/png": "[encoded data removed]",
            "text/plain": [
              "<Figure size 432x288 with 1 Axes>"
            ]
          },
          "metadata": {
            "tags": [],
            "needs_background": "light"
          }
        },
        {
          "output_type": "stream",
          "text": [
            "Gill\n",
            "\n"
          ],
          "name": "stdout"
        },
        {
          "output_type": "display_data",
          "data": {
            "image/png": "[encoded data removed]",
            "text/plain": [
              "<Figure size 432x288 with 1 Axes>"
            ]
          },
          "metadata": {
            "tags": [],
            "needs_background": "light"
          }
        }
      ]
    },
    {
      "cell_type": "markdown",
      "metadata": {
        "id": "uysAFZA-yshI"
      },
      "source": [
        "train/test split"
      ]
    },
    {
      "cell_type": "code",
      "metadata": {
        "id": "XTt7dRHWlLgf"
      },
      "source": [
        "from sklearn.model_selection import train_test_split\n",
        "\n",
        "def ypred(x, model):\n",
        "  return list(map({0:'BITSTREAMVERA', 1:'CENTURY', 2:'CONSOLAS', 3:'EBRIMA', 4:'GILL'}.get, model.predict(x).argmax(axis = -1)))\n",
        "\n",
        "dataX = np.concatenate(([FONT_mat[i] for i in range(5)])).reshape(-1,20,20,1)\n",
        "dataY = np.concatenate(([CL[i]['font'] for i in range(5)]))\n",
        "train, test = train_test_split(range(dataX.shape[0]), test_size = 0.2, random_state = 0)\n",
        "x_train = dataX[train]; x_test = dataX[test]\n",
        "y_train = dataY[train]; y_test = dataY[test]"
      ],
      "execution_count": 3,
      "outputs": []
    },
    {
      "cell_type": "markdown",
      "metadata": {
        "id": "s12xugA3eKL8"
      },
      "source": [
        "#CNN"
      ]
    },
    {
      "cell_type": "markdown",
      "metadata": {
        "id": "67Jr7-U6iQH1"
      },
      "source": [
        "(https://www.tensorflow.org/tutorials/images/cnn)"
      ]
    },
    {
      "cell_type": "markdown",
      "metadata": {
        "id": "-sTOM1h4-uCN"
      },
      "source": [
        "h=200"
      ]
    },
    {
      "cell_type": "code",
      "metadata": {
        "id": "qL_UbbEkeMJk",
        "colab": {
          "base_uri": "https://localhost:8080/"
        },
        "outputId": "ec9f0697-7aaf-49d2-81ba-f3f640b9d5d1"
      },
      "source": [
        "import tensorflow as tf\n",
        "from tensorflow.keras import datasets, layers, models\n",
        "from tensorflow.keras.callbacks import ModelCheckpoint\n",
        "\n",
        "#build (step 3)\n",
        "model = models.Sequential()\n",
        "model.add(layers.Conv2D(16, (5, 5), activation='relu', input_shape=(20, 20, 1)))\n",
        "model.add(layers.MaxPooling2D((2, 2), strides= 2))\n",
        "model.add(layers.Conv2D(16, (3, 3), activation='relu'))\n",
        "model.add(layers.MaxPooling2D((2, 2), strides= 2))\n",
        "model.add(layers.Flatten())\n",
        "model.add(layers.Dense(200, activation='relu')) \n",
        "model.add(layers.Dropout(0.5))\n",
        "model.add(layers.Dense(5, activation='softmax'))\n",
        "#model.summary()\n",
        "\n",
        "checkpointer = ModelCheckpoint('modelh_200', monitor='val_accuracy', save_best_only=True)\n",
        "model.compile(optimizer='adam', loss=tf.keras.losses.CategoricalCrossentropy(from_logits=True), metrics=['accuracy'])\n",
        "monitor = model.fit(x_train, tf.one_hot(pd.Series(y_train,dtype='category').astype('category').cat.codes,5), epochs=100, batch_size= int(len(train)**0.5),\n",
        "                    validation_data=(x_test, tf.one_hot(pd.Series(y_test, dtype='category').astype('category').cat.codes,5)), callbacks=[checkpointer])"
      ],
      "execution_count": 4,
      "outputs": [
        {
          "output_type": "stream",
          "text": [
            "Epoch 1/100\n",
            "89/89 [==============================] - 3s 28ms/step - loss: 16.7791 - accuracy: 0.2762 - val_loss: 1.3628 - val_accuracy: 0.4383\n",
            "INFO:tensorflow:Assets written to: modelh_200/assets\n",
            "Epoch 2/100\n",
            "89/89 [==============================] - 2s 22ms/step - loss: 1.5413 - accuracy: 0.3846 - val_loss: 1.2304 - val_accuracy: 0.5008\n",
            "INFO:tensorflow:Assets written to: modelh_200/assets\n",
            "Epoch 3/100\n",
            "89/89 [==============================] - 2s 23ms/step - loss: 1.3397 - accuracy: 0.4425 - val_loss: 1.1489 - val_accuracy: 0.5351\n",
            "INFO:tensorflow:Assets written to: modelh_200/assets\n",
            "Epoch 4/100\n",
            "89/89 [==============================] - 2s 22ms/step - loss: 1.2392 - accuracy: 0.4933 - val_loss: 1.1144 - val_accuracy: 0.5484\n",
            "INFO:tensorflow:Assets written to: modelh_200/assets\n",
            "Epoch 5/100\n",
            "89/89 [==============================] - 2s 25ms/step - loss: 1.1585 - accuracy: 0.5240 - val_loss: 1.0558 - val_accuracy: 0.5796\n",
            "INFO:tensorflow:Assets written to: modelh_200/assets\n",
            "Epoch 6/100\n",
            "89/89 [==============================] - 2s 23ms/step - loss: 1.1144 - accuracy: 0.5566 - val_loss: 1.0026 - val_accuracy: 0.5955\n",
            "INFO:tensorflow:Assets written to: modelh_200/assets\n",
            "Epoch 7/100\n",
            "89/89 [==============================] - 2s 24ms/step - loss: 1.0615 - accuracy: 0.5729 - val_loss: 0.9979 - val_accuracy: 0.6083\n",
            "INFO:tensorflow:Assets written to: modelh_200/assets\n",
            "Epoch 8/100\n",
            "89/89 [==============================] - 2s 23ms/step - loss: 1.0033 - accuracy: 0.6051 - val_loss: 0.9432 - val_accuracy: 0.6257\n",
            "INFO:tensorflow:Assets written to: modelh_200/assets\n",
            "Epoch 9/100\n",
            "89/89 [==============================] - 2s 24ms/step - loss: 0.9618 - accuracy: 0.6115 - val_loss: 0.9199 - val_accuracy: 0.6395\n",
            "INFO:tensorflow:Assets written to: modelh_200/assets\n",
            "Epoch 10/100\n",
            "89/89 [==============================] - 2s 24ms/step - loss: 0.9364 - accuracy: 0.6274 - val_loss: 0.9004 - val_accuracy: 0.6329\n",
            "Epoch 11/100\n",
            "89/89 [==============================] - 2s 24ms/step - loss: 0.8955 - accuracy: 0.6453 - val_loss: 0.8675 - val_accuracy: 0.6651\n",
            "INFO:tensorflow:Assets written to: modelh_200/assets\n",
            "Epoch 12/100\n",
            "89/89 [==============================] - 2s 24ms/step - loss: 0.8391 - accuracy: 0.6690 - val_loss: 0.8398 - val_accuracy: 0.6749\n",
            "INFO:tensorflow:Assets written to: modelh_200/assets\n",
            "Epoch 13/100\n",
            "89/89 [==============================] - 2s 24ms/step - loss: 0.8065 - accuracy: 0.6884 - val_loss: 0.8203 - val_accuracy: 0.6836\n",
            "INFO:tensorflow:Assets written to: modelh_200/assets\n",
            "Epoch 14/100\n",
            "89/89 [==============================] - 2s 23ms/step - loss: 0.7890 - accuracy: 0.6890 - val_loss: 0.8034 - val_accuracy: 0.6959\n",
            "INFO:tensorflow:Assets written to: modelh_200/assets\n",
            "Epoch 15/100\n",
            "89/89 [==============================] - 2s 25ms/step - loss: 0.7558 - accuracy: 0.7057 - val_loss: 0.7952 - val_accuracy: 0.7081\n",
            "INFO:tensorflow:Assets written to: modelh_200/assets\n",
            "Epoch 16/100\n",
            "89/89 [==============================] - 2s 24ms/step - loss: 0.7400 - accuracy: 0.7044 - val_loss: 0.7718 - val_accuracy: 0.7112\n",
            "INFO:tensorflow:Assets written to: modelh_200/assets\n",
            "Epoch 17/100\n",
            "89/89 [==============================] - 2s 24ms/step - loss: 0.7193 - accuracy: 0.7152 - val_loss: 0.7741 - val_accuracy: 0.7081\n",
            "Epoch 18/100\n",
            "89/89 [==============================] - 2s 23ms/step - loss: 0.6880 - accuracy: 0.7259 - val_loss: 0.7603 - val_accuracy: 0.7189\n",
            "INFO:tensorflow:Assets written to: modelh_200/assets\n",
            "Epoch 19/100\n",
            "89/89 [==============================] - 2s 25ms/step - loss: 0.6912 - accuracy: 0.7329 - val_loss: 0.7597 - val_accuracy: 0.7117\n",
            "Epoch 20/100\n",
            "89/89 [==============================] - 2s 25ms/step - loss: 0.6558 - accuracy: 0.7470 - val_loss: 0.7630 - val_accuracy: 0.7174\n",
            "Epoch 21/100\n",
            "89/89 [==============================] - 2s 24ms/step - loss: 0.6422 - accuracy: 0.7519 - val_loss: 0.7772 - val_accuracy: 0.7163\n",
            "Epoch 22/100\n",
            "89/89 [==============================] - 2s 23ms/step - loss: 0.6204 - accuracy: 0.7580 - val_loss: 0.7250 - val_accuracy: 0.7296\n",
            "INFO:tensorflow:Assets written to: modelh_200/assets\n",
            "Epoch 23/100\n",
            "89/89 [==============================] - 2s 24ms/step - loss: 0.6009 - accuracy: 0.7738 - val_loss: 0.7346 - val_accuracy: 0.7337\n",
            "INFO:tensorflow:Assets written to: modelh_200/assets\n",
            "Epoch 24/100\n",
            "89/89 [==============================] - 2s 24ms/step - loss: 0.5965 - accuracy: 0.7670 - val_loss: 0.7316 - val_accuracy: 0.7394\n",
            "INFO:tensorflow:Assets written to: modelh_200/assets\n",
            "Epoch 25/100\n",
            "89/89 [==============================] - 2s 24ms/step - loss: 0.5732 - accuracy: 0.7788 - val_loss: 0.7293 - val_accuracy: 0.7307\n",
            "Epoch 26/100\n",
            "89/89 [==============================] - 2s 23ms/step - loss: 0.5601 - accuracy: 0.7799 - val_loss: 0.7386 - val_accuracy: 0.7368\n",
            "Epoch 27/100\n",
            "89/89 [==============================] - 2s 24ms/step - loss: 0.5343 - accuracy: 0.7893 - val_loss: 0.7154 - val_accuracy: 0.7389\n",
            "Epoch 28/100\n",
            "89/89 [==============================] - 2s 24ms/step - loss: 0.5351 - accuracy: 0.7907 - val_loss: 0.7480 - val_accuracy: 0.7440\n",
            "INFO:tensorflow:Assets written to: modelh_200/assets\n",
            "Epoch 29/100\n",
            "89/89 [==============================] - 2s 24ms/step - loss: 0.5295 - accuracy: 0.7874 - val_loss: 0.6913 - val_accuracy: 0.7599\n",
            "INFO:tensorflow:Assets written to: modelh_200/assets\n",
            "Epoch 30/100\n",
            "89/89 [==============================] - 2s 24ms/step - loss: 0.5074 - accuracy: 0.8002 - val_loss: 0.7228 - val_accuracy: 0.7501\n",
            "Epoch 31/100\n",
            "89/89 [==============================] - 2s 24ms/step - loss: 0.5021 - accuracy: 0.7999 - val_loss: 0.7601 - val_accuracy: 0.7496\n",
            "Epoch 32/100\n",
            "89/89 [==============================] - 2s 24ms/step - loss: 0.4992 - accuracy: 0.8004 - val_loss: 0.7361 - val_accuracy: 0.7527\n",
            "Epoch 33/100\n",
            "89/89 [==============================] - 2s 24ms/step - loss: 0.4926 - accuracy: 0.8009 - val_loss: 0.7246 - val_accuracy: 0.7604\n",
            "INFO:tensorflow:Assets written to: modelh_200/assets\n",
            "Epoch 34/100\n",
            "89/89 [==============================] - 2s 25ms/step - loss: 0.4770 - accuracy: 0.8130 - val_loss: 0.7135 - val_accuracy: 0.7655\n",
            "INFO:tensorflow:Assets written to: modelh_200/assets\n",
            "Epoch 35/100\n",
            "89/89 [==============================] - 2s 25ms/step - loss: 0.4750 - accuracy: 0.8091 - val_loss: 0.7180 - val_accuracy: 0.7680\n",
            "INFO:tensorflow:Assets written to: modelh_200/assets\n",
            "Epoch 36/100\n",
            "89/89 [==============================] - 2s 25ms/step - loss: 0.4477 - accuracy: 0.8235 - val_loss: 0.6922 - val_accuracy: 0.7675\n",
            "Epoch 37/100\n",
            "89/89 [==============================] - 2s 24ms/step - loss: 0.4600 - accuracy: 0.8181 - val_loss: 0.7566 - val_accuracy: 0.7588\n",
            "Epoch 38/100\n",
            "89/89 [==============================] - 2s 24ms/step - loss: 0.4244 - accuracy: 0.8286 - val_loss: 0.7102 - val_accuracy: 0.7563\n",
            "Epoch 39/100\n",
            "89/89 [==============================] - 2s 24ms/step - loss: 0.4388 - accuracy: 0.8288 - val_loss: 0.7555 - val_accuracy: 0.7640\n",
            "Epoch 40/100\n",
            "89/89 [==============================] - 2s 24ms/step - loss: 0.4261 - accuracy: 0.8264 - val_loss: 0.7347 - val_accuracy: 0.7680\n",
            "Epoch 41/100\n",
            "89/89 [==============================] - 2s 24ms/step - loss: 0.4230 - accuracy: 0.8416 - val_loss: 0.7258 - val_accuracy: 0.7737\n",
            "INFO:tensorflow:Assets written to: modelh_200/assets\n",
            "Epoch 42/100\n",
            "89/89 [==============================] - 2s 25ms/step - loss: 0.3996 - accuracy: 0.8432 - val_loss: 0.7248 - val_accuracy: 0.7680\n",
            "Epoch 43/100\n",
            "89/89 [==============================] - 2s 25ms/step - loss: 0.4134 - accuracy: 0.8291 - val_loss: 0.7496 - val_accuracy: 0.7721\n",
            "Epoch 44/100\n",
            "89/89 [==============================] - 2s 24ms/step - loss: 0.4108 - accuracy: 0.8368 - val_loss: 0.7245 - val_accuracy: 0.7752\n",
            "INFO:tensorflow:Assets written to: modelh_200/assets\n",
            "Epoch 45/100\n",
            "89/89 [==============================] - 2s 25ms/step - loss: 0.4061 - accuracy: 0.8374 - val_loss: 0.7068 - val_accuracy: 0.7711\n",
            "Epoch 46/100\n",
            "89/89 [==============================] - 2s 25ms/step - loss: 0.4028 - accuracy: 0.8398 - val_loss: 0.7388 - val_accuracy: 0.7727\n",
            "Epoch 47/100\n",
            "89/89 [==============================] - 2s 25ms/step - loss: 0.3902 - accuracy: 0.8461 - val_loss: 0.7753 - val_accuracy: 0.7629\n",
            "Epoch 48/100\n",
            "89/89 [==============================] - 2s 24ms/step - loss: 0.3833 - accuracy: 0.8516 - val_loss: 0.7645 - val_accuracy: 0.7670\n",
            "Epoch 49/100\n",
            "89/89 [==============================] - 2s 25ms/step - loss: 0.3766 - accuracy: 0.8488 - val_loss: 0.8126 - val_accuracy: 0.7701\n",
            "Epoch 50/100\n",
            "89/89 [==============================] - 2s 25ms/step - loss: 0.3494 - accuracy: 0.8571 - val_loss: 0.7291 - val_accuracy: 0.7880\n",
            "INFO:tensorflow:Assets written to: modelh_200/assets\n",
            "Epoch 51/100\n",
            "89/89 [==============================] - 2s 24ms/step - loss: 0.3733 - accuracy: 0.8617 - val_loss: 0.7465 - val_accuracy: 0.7773\n",
            "Epoch 52/100\n",
            "89/89 [==============================] - 2s 24ms/step - loss: 0.3635 - accuracy: 0.8561 - val_loss: 0.7603 - val_accuracy: 0.7829\n",
            "Epoch 53/100\n",
            "89/89 [==============================] - 2s 25ms/step - loss: 0.3520 - accuracy: 0.8614 - val_loss: 0.7390 - val_accuracy: 0.7906\n",
            "INFO:tensorflow:Assets written to: modelh_200/assets\n",
            "Epoch 54/100\n",
            "89/89 [==============================] - 2s 26ms/step - loss: 0.3582 - accuracy: 0.8542 - val_loss: 0.7562 - val_accuracy: 0.7819\n",
            "Epoch 55/100\n",
            "89/89 [==============================] - 2s 26ms/step - loss: 0.3502 - accuracy: 0.8583 - val_loss: 0.8066 - val_accuracy: 0.7727\n",
            "Epoch 56/100\n",
            "89/89 [==============================] - 2s 24ms/step - loss: 0.3455 - accuracy: 0.8625 - val_loss: 0.8204 - val_accuracy: 0.7762\n",
            "Epoch 57/100\n",
            "89/89 [==============================] - 2s 24ms/step - loss: 0.3627 - accuracy: 0.8523 - val_loss: 0.8126 - val_accuracy: 0.7788\n",
            "Epoch 58/100\n",
            "89/89 [==============================] - 2s 25ms/step - loss: 0.3269 - accuracy: 0.8713 - val_loss: 0.7930 - val_accuracy: 0.7931\n",
            "INFO:tensorflow:Assets written to: modelh_200/assets\n",
            "Epoch 59/100\n",
            "89/89 [==============================] - 2s 24ms/step - loss: 0.3122 - accuracy: 0.8759 - val_loss: 0.8237 - val_accuracy: 0.7788\n",
            "Epoch 60/100\n",
            "89/89 [==============================] - 2s 24ms/step - loss: 0.3219 - accuracy: 0.8677 - val_loss: 0.8236 - val_accuracy: 0.7727\n",
            "Epoch 61/100\n",
            "89/89 [==============================] - 2s 23ms/step - loss: 0.3269 - accuracy: 0.8647 - val_loss: 0.7546 - val_accuracy: 0.7829\n",
            "Epoch 62/100\n",
            "89/89 [==============================] - 2s 24ms/step - loss: 0.3035 - accuracy: 0.8753 - val_loss: 0.7915 - val_accuracy: 0.7783\n",
            "Epoch 63/100\n",
            "89/89 [==============================] - 2s 24ms/step - loss: 0.3057 - accuracy: 0.8792 - val_loss: 0.8291 - val_accuracy: 0.7778\n",
            "Epoch 64/100\n",
            "89/89 [==============================] - 2s 24ms/step - loss: 0.3097 - accuracy: 0.8787 - val_loss: 0.8018 - val_accuracy: 0.7931\n",
            "Epoch 65/100\n",
            "89/89 [==============================] - 2s 24ms/step - loss: 0.3050 - accuracy: 0.8834 - val_loss: 0.8423 - val_accuracy: 0.7803\n",
            "Epoch 66/100\n",
            "89/89 [==============================] - 2s 23ms/step - loss: 0.3134 - accuracy: 0.8775 - val_loss: 0.8282 - val_accuracy: 0.7875\n",
            "Epoch 67/100\n",
            "89/89 [==============================] - 2s 24ms/step - loss: 0.3147 - accuracy: 0.8769 - val_loss: 0.8420 - val_accuracy: 0.7865\n",
            "Epoch 68/100\n",
            "89/89 [==============================] - 2s 24ms/step - loss: 0.2934 - accuracy: 0.8846 - val_loss: 0.9676 - val_accuracy: 0.7665\n",
            "Epoch 69/100\n",
            "89/89 [==============================] - 2s 24ms/step - loss: 0.3060 - accuracy: 0.8774 - val_loss: 0.9191 - val_accuracy: 0.7747\n",
            "Epoch 70/100\n",
            "89/89 [==============================] - 2s 23ms/step - loss: 0.3147 - accuracy: 0.8759 - val_loss: 0.8735 - val_accuracy: 0.7747\n",
            "Epoch 71/100\n",
            "89/89 [==============================] - 2s 23ms/step - loss: 0.3247 - accuracy: 0.8630 - val_loss: 0.8419 - val_accuracy: 0.7824\n",
            "Epoch 72/100\n",
            "89/89 [==============================] - 2s 24ms/step - loss: 0.2992 - accuracy: 0.8832 - val_loss: 0.9035 - val_accuracy: 0.7834\n",
            "Epoch 73/100\n",
            "89/89 [==============================] - 2s 23ms/step - loss: 0.2988 - accuracy: 0.8824 - val_loss: 0.8682 - val_accuracy: 0.7865\n",
            "Epoch 74/100\n",
            "89/89 [==============================] - 2s 24ms/step - loss: 0.2882 - accuracy: 0.8830 - val_loss: 0.8938 - val_accuracy: 0.7901\n",
            "Epoch 75/100\n",
            "89/89 [==============================] - 2s 23ms/step - loss: 0.2763 - accuracy: 0.8937 - val_loss: 0.9285 - val_accuracy: 0.7849\n",
            "Epoch 76/100\n",
            "89/89 [==============================] - 2s 23ms/step - loss: 0.2837 - accuracy: 0.8841 - val_loss: 0.9301 - val_accuracy: 0.7783\n",
            "Epoch 77/100\n",
            "89/89 [==============================] - 2s 24ms/step - loss: 0.2802 - accuracy: 0.8866 - val_loss: 0.8247 - val_accuracy: 0.7885\n",
            "Epoch 78/100\n",
            "89/89 [==============================] - 2s 23ms/step - loss: 0.2804 - accuracy: 0.8854 - val_loss: 0.8607 - val_accuracy: 0.7829\n",
            "Epoch 79/100\n",
            "89/89 [==============================] - 2s 23ms/step - loss: 0.2609 - accuracy: 0.8953 - val_loss: 0.8608 - val_accuracy: 0.7911\n",
            "Epoch 80/100\n",
            "89/89 [==============================] - 2s 23ms/step - loss: 0.2601 - accuracy: 0.8974 - val_loss: 0.9280 - val_accuracy: 0.7788\n",
            "Epoch 81/100\n",
            "89/89 [==============================] - 2s 22ms/step - loss: 0.2542 - accuracy: 0.9019 - val_loss: 0.9039 - val_accuracy: 0.7972\n",
            "INFO:tensorflow:Assets written to: modelh_200/assets\n",
            "Epoch 82/100\n",
            "89/89 [==============================] - 2s 23ms/step - loss: 0.2721 - accuracy: 0.8892 - val_loss: 0.8855 - val_accuracy: 0.7901\n",
            "Epoch 83/100\n",
            "89/89 [==============================] - 2s 23ms/step - loss: 0.2633 - accuracy: 0.8954 - val_loss: 0.9699 - val_accuracy: 0.7829\n",
            "Epoch 84/100\n",
            "89/89 [==============================] - 2s 23ms/step - loss: 0.2812 - accuracy: 0.8899 - val_loss: 0.9370 - val_accuracy: 0.7911\n",
            "Epoch 85/100\n",
            "89/89 [==============================] - 2s 23ms/step - loss: 0.2550 - accuracy: 0.9014 - val_loss: 0.9234 - val_accuracy: 0.7752\n",
            "Epoch 86/100\n",
            "89/89 [==============================] - 2s 24ms/step - loss: 0.2756 - accuracy: 0.8905 - val_loss: 0.9197 - val_accuracy: 0.7768\n",
            "Epoch 87/100\n",
            "89/89 [==============================] - 2s 23ms/step - loss: 0.2719 - accuracy: 0.8893 - val_loss: 0.9617 - val_accuracy: 0.7783\n",
            "Epoch 88/100\n",
            "89/89 [==============================] - 2s 24ms/step - loss: 0.2798 - accuracy: 0.8865 - val_loss: 1.0346 - val_accuracy: 0.7808\n",
            "Epoch 89/100\n",
            "89/89 [==============================] - 2s 23ms/step - loss: 0.3307 - accuracy: 0.8678 - val_loss: 0.9470 - val_accuracy: 0.7865\n",
            "Epoch 90/100\n",
            "89/89 [==============================] - 2s 23ms/step - loss: 0.2763 - accuracy: 0.8928 - val_loss: 0.9707 - val_accuracy: 0.7855\n",
            "Epoch 91/100\n",
            "89/89 [==============================] - 2s 23ms/step - loss: 0.2534 - accuracy: 0.8987 - val_loss: 1.0294 - val_accuracy: 0.7865\n",
            "Epoch 92/100\n",
            "89/89 [==============================] - 2s 23ms/step - loss: 0.2472 - accuracy: 0.8972 - val_loss: 0.9637 - val_accuracy: 0.7962\n",
            "Epoch 93/100\n",
            "89/89 [==============================] - 2s 23ms/step - loss: 0.2656 - accuracy: 0.8937 - val_loss: 1.0193 - val_accuracy: 0.7829\n",
            "Epoch 94/100\n",
            "89/89 [==============================] - 2s 23ms/step - loss: 0.2501 - accuracy: 0.9034 - val_loss: 0.9655 - val_accuracy: 0.7890\n",
            "Epoch 95/100\n",
            "89/89 [==============================] - 2s 24ms/step - loss: 0.2816 - accuracy: 0.8842 - val_loss: 1.0089 - val_accuracy: 0.7783\n",
            "Epoch 96/100\n",
            "89/89 [==============================] - 2s 23ms/step - loss: 0.2457 - accuracy: 0.9011 - val_loss: 1.0180 - val_accuracy: 0.7844\n",
            "Epoch 97/100\n",
            "89/89 [==============================] - 2s 23ms/step - loss: 0.2509 - accuracy: 0.8990 - val_loss: 1.0100 - val_accuracy: 0.7844\n",
            "Epoch 98/100\n",
            "89/89 [==============================] - 2s 23ms/step - loss: 0.2653 - accuracy: 0.8973 - val_loss: 1.0487 - val_accuracy: 0.7768\n",
            "Epoch 99/100\n",
            "89/89 [==============================] - 2s 24ms/step - loss: 0.2472 - accuracy: 0.8983 - val_loss: 0.9750 - val_accuracy: 0.7901\n",
            "Epoch 100/100\n",
            "89/89 [==============================] - 2s 24ms/step - loss: 0.2521 - accuracy: 0.8985 - val_loss: 0.9450 - val_accuracy: 0.7875\n"
          ],
          "name": "stdout"
        }
      ]
    },
    {
      "cell_type": "markdown",
      "metadata": {
        "id": "zh_CY74anfxz"
      },
      "source": [
        "Performance during learning"
      ]
    },
    {
      "cell_type": "code",
      "metadata": {
        "id": "1DI_r1ELniUk",
        "colab": {
          "base_uri": "https://localhost:8080/",
          "height": 541
        },
        "outputId": "aa05b47f-e922-41a2-a3d8-21db97627a81"
      },
      "source": [
        "def plotCrssEntr(monitor):\n",
        "  plt.plot(monitor.model.history.history['loss'], label = 'Training loss')\n",
        "  plt.plot(monitor.model.history.history['val_loss'], label = 'Test loss')\n",
        "  plt.xlabel('Epoch'); plt.ylabel('Loss (CrossEntr)')\n",
        "  plt.legend(); plt.grid(True); plt.show()\n",
        "\n",
        "def plotAcc(monitor):\n",
        "  plt.plot(monitor.model.history.history['accuracy'], label = 'Training accuracy')\n",
        "  plt.plot(monitor.model.history.history['val_accuracy'], label = 'Test accuracy')\n",
        "  plt.xlabel('Epoch'); plt.ylabel('Accuracy')\n",
        "  plt.legend(); plt.grid(True); plt.show()\n",
        "\n",
        "plotCrssEntr(monitor); plotAcc(monitor)"
      ],
      "execution_count": 5,
      "outputs": [
        {
          "output_type": "display_data",
          "data": {
            "image/png": "[encoded data removed]",
            "text/plain": [
              "<Figure size 432x288 with 1 Axes>"
            ]
          },
          "metadata": {
            "tags": [],
            "needs_background": "light"
          }
        },
        {
          "output_type": "display_data",
          "data": {
            "image/png": "[encoded data removed]",
            "text/plain": [
              "<Figure size 432x288 with 1 Axes>"
            ]
          },
          "metadata": {
            "tags": [],
            "needs_background": "light"
          }
        }
      ]
    },
    {
      "cell_type": "markdown",
      "metadata": {
        "id": "fEJy_QGwoElA"
      },
      "source": [
        "Conf Matirx"
      ]
    },
    {
      "cell_type": "code",
      "metadata": {
        "id": "3Gr1TW_koHCx",
        "colab": {
          "base_uri": "https://localhost:8080/"
        },
        "outputId": "d5ba19fb-8353-4529-e100-f12bfdd06fcc"
      },
      "source": [
        "def conf(actu, pred):\n",
        "  y_actu = pd.Series(np.array(actu), name = 'Actual')\n",
        "  y_pred = pd.Series(pred, name = 'Predicted')\n",
        "  df_confusion = pd.crosstab(y_actu, y_pred)\n",
        "  return df_confusion.divide(df_confusion.sum(axis=1),axis=0), sum(np.diag(df_confusion))/sum(np.sum(df_confusion))\n",
        "\n",
        "trainConf, trainGlobal = conf(y_train, ypred(x_train, monitor.model))\n",
        "print('Train:\\n', trainConf,'\\nGlobal: ', trainGlobal)\n",
        "\n",
        "testConf, testGlobal = conf(y_test, ypred(x_test, monitor.model))\n",
        "print('\\nTest:\\n', testConf, '\\nGlobal: ', testGlobal)"
      ],
      "execution_count": 6,
      "outputs": [
        {
          "output_type": "stream",
          "text": [
            "Train:\n",
            " Predicted      BITSTREAMVERA   CENTURY  CONSOLAS    EBRIMA      GILL\n",
            "Actual                                                              \n",
            "BITSTREAMVERA       0.992992  0.002695  0.002695  0.000539  0.001078\n",
            "CENTURY             0.000617  0.987053  0.006165  0.002466  0.003699\n",
            "CONSOLAS            0.002782  0.029494  0.961603  0.002782  0.003339\n",
            "EBRIMA              0.000728  0.023290  0.016012  0.954876  0.005095\n",
            "GILL                0.005168  0.053402  0.012920  0.006891  0.921619 \n",
            "Global:  0.9672173133563836\n",
            "\n",
            "Test:\n",
            " Predicted      BITSTREAMVERA   CENTURY  CONSOLAS    EBRIMA      GILL\n",
            "Actual                                                              \n",
            "BITSTREAMVERA       0.943311  0.006803  0.022676  0.004535  0.022676\n",
            "CENTURY             0.005305  0.901857  0.047745  0.026525  0.018568\n",
            "CONSOLAS            0.040984  0.061475  0.760246  0.088115  0.049180\n",
            "EBRIMA              0.014327  0.177650  0.171920  0.593123  0.042980\n",
            "GILL                0.093960  0.063758  0.093960  0.063758  0.684564 \n",
            "Global:  0.7875064004096262\n"
          ],
          "name": "stdout"
        }
      ]
    },
    {
      "cell_type": "markdown",
      "metadata": {
        "id": "xZsy-ieU-3lt"
      },
      "source": [
        "#Repeating everything for h = 90, 150"
      ]
    },
    {
      "cell_type": "markdown",
      "metadata": {
        "id": "_vGJhLU9_J-n"
      },
      "source": [
        "h=90"
      ]
    },
    {
      "cell_type": "code",
      "metadata": {
        "id": "nufuIXhV_Js3",
        "outputId": "10f1a9b2-d9fd-44e7-a7c8-9ece37bca923",
        "colab": {
          "base_uri": "https://localhost:8080/",
          "height": 1000
        }
      },
      "source": [
        "model = models.Sequential()\n",
        "model.add(layers.Conv2D(16, (5, 5), activation='relu', input_shape=(20, 20, 1)))\n",
        "model.add(layers.MaxPooling2D((2, 2), strides= 2))\n",
        "model.add(layers.Conv2D(16, (3, 3), activation='relu'))\n",
        "model.add(layers.MaxPooling2D((2, 2), strides= 2))\n",
        "model.add(layers.Flatten())\n",
        "model.add(layers.Dense(90, activation='relu')) \n",
        "model.add(layers.Dropout(0.5))\n",
        "model.add(layers.Dense(5, activation='softmax'))\n",
        "#model.summary()\n",
        "\n",
        "checkpointer = ModelCheckpoint('modelh_90', monitor='val_accuracy', save_best_only=True)\n",
        "model.compile(optimizer='adam', loss=tf.keras.losses.CategoricalCrossentropy(from_logits=True), metrics=['accuracy'])\n",
        "monitor = model.fit(x_train, tf.one_hot(pd.Series(y_train,dtype='category').astype('category').cat.codes,5), epochs=100, batch_size= int(len(train)**0.5),\n",
        "                    validation_data=(x_test, tf.one_hot(pd.Series(y_test, dtype='category').astype('category').cat.codes,5)), callbacks=[checkpointer])\n",
        "\n",
        "\n",
        "print('h=90:\\n');plotCrssEntr(monitor); plotAcc(monitor)\n",
        "\n",
        "trainConf, trainGlobal = conf(y_train, ypred(x_train, monitor.model))\n",
        "print('Train:\\n', trainConf,'\\nGlobal: ', trainGlobal)\n",
        "\n",
        "testConf, testGlobal = conf(y_test, ypred(x_test, monitor.model))\n",
        "print('\\nTest:\\n', testConf, '\\nGlobal: ', testGlobal)"
      ],
      "execution_count": 7,
      "outputs": [
        {
          "output_type": "stream",
          "text": [
            "Epoch 1/100\n",
            "89/89 [==============================] - 3s 25ms/step - loss: 13.8122 - accuracy: 0.2230 - val_loss: 1.6011 - val_accuracy: 0.2366\n",
            "INFO:tensorflow:Assets written to: modelh_90/assets\n",
            "Epoch 2/100\n",
            "89/89 [==============================] - 2s 22ms/step - loss: 1.6095 - accuracy: 0.2723 - val_loss: 1.5836 - val_accuracy: 0.2432\n",
            "INFO:tensorflow:Assets written to: modelh_90/assets\n",
            "Epoch 3/100\n",
            "89/89 [==============================] - 2s 22ms/step - loss: 1.5925 - accuracy: 0.2617 - val_loss: 1.5743 - val_accuracy: 0.2586\n",
            "INFO:tensorflow:Assets written to: modelh_90/assets\n",
            "Epoch 4/100\n",
            "89/89 [==============================] - 2s 22ms/step - loss: 1.5769 - accuracy: 0.2756 - val_loss: 1.5654 - val_accuracy: 0.2581\n",
            "Epoch 5/100\n",
            "89/89 [==============================] - 2s 21ms/step - loss: 1.5661 - accuracy: 0.2785 - val_loss: 1.5447 - val_accuracy: 0.2842\n",
            "INFO:tensorflow:Assets written to: modelh_90/assets\n",
            "Epoch 6/100\n",
            "89/89 [==============================] - 2s 21ms/step - loss: 1.5535 - accuracy: 0.2908 - val_loss: 1.5236 - val_accuracy: 0.2924\n",
            "INFO:tensorflow:Assets written to: modelh_90/assets\n",
            "Epoch 7/100\n",
            "89/89 [==============================] - 2s 23ms/step - loss: 1.5244 - accuracy: 0.3200 - val_loss: 1.5021 - val_accuracy: 0.3257\n",
            "INFO:tensorflow:Assets written to: modelh_90/assets\n",
            "Epoch 8/100\n",
            "89/89 [==============================] - 2s 23ms/step - loss: 1.5020 - accuracy: 0.3250 - val_loss: 1.4670 - val_accuracy: 0.3554\n",
            "INFO:tensorflow:Assets written to: modelh_90/assets\n",
            "Epoch 9/100\n",
            "89/89 [==============================] - 2s 22ms/step - loss: 1.4847 - accuracy: 0.3462 - val_loss: 1.4483 - val_accuracy: 0.3507\n",
            "Epoch 10/100\n",
            "89/89 [==============================] - 2s 22ms/step - loss: 1.4452 - accuracy: 0.3699 - val_loss: 1.4162 - val_accuracy: 0.3820\n",
            "INFO:tensorflow:Assets written to: modelh_90/assets\n",
            "Epoch 11/100\n",
            "89/89 [==============================] - 2s 23ms/step - loss: 1.4214 - accuracy: 0.3880 - val_loss: 1.3973 - val_accuracy: 0.4040\n",
            "INFO:tensorflow:Assets written to: modelh_90/assets\n",
            "Epoch 12/100\n",
            "89/89 [==============================] - 2s 23ms/step - loss: 1.3875 - accuracy: 0.4091 - val_loss: 1.3651 - val_accuracy: 0.4122\n",
            "INFO:tensorflow:Assets written to: modelh_90/assets\n",
            "Epoch 13/100\n",
            "89/89 [==============================] - 2s 23ms/step - loss: 1.3498 - accuracy: 0.4285 - val_loss: 1.3647 - val_accuracy: 0.4076\n",
            "Epoch 14/100\n",
            "89/89 [==============================] - 2s 23ms/step - loss: 1.3371 - accuracy: 0.4313 - val_loss: 1.3242 - val_accuracy: 0.4337\n",
            "INFO:tensorflow:Assets written to: modelh_90/assets\n",
            "Epoch 15/100\n",
            "89/89 [==============================] - 2s 22ms/step - loss: 1.3014 - accuracy: 0.4599 - val_loss: 1.3054 - val_accuracy: 0.4511\n",
            "INFO:tensorflow:Assets written to: modelh_90/assets\n",
            "Epoch 16/100\n",
            "89/89 [==============================] - 2s 22ms/step - loss: 1.3073 - accuracy: 0.4532 - val_loss: 1.3022 - val_accuracy: 0.4424\n",
            "Epoch 17/100\n",
            "89/89 [==============================] - 2s 22ms/step - loss: 1.2683 - accuracy: 0.4694 - val_loss: 1.2617 - val_accuracy: 0.4670\n",
            "INFO:tensorflow:Assets written to: modelh_90/assets\n",
            "Epoch 18/100\n",
            "89/89 [==============================] - 2s 22ms/step - loss: 1.2172 - accuracy: 0.4976 - val_loss: 1.2744 - val_accuracy: 0.4567\n",
            "Epoch 19/100\n",
            "89/89 [==============================] - 2s 22ms/step - loss: 1.2361 - accuracy: 0.4922 - val_loss: 1.2355 - val_accuracy: 0.4921\n",
            "INFO:tensorflow:Assets written to: modelh_90/assets\n",
            "Epoch 20/100\n",
            "89/89 [==============================] - 2s 22ms/step - loss: 1.2188 - accuracy: 0.5001 - val_loss: 1.2391 - val_accuracy: 0.4793\n",
            "Epoch 21/100\n",
            "89/89 [==============================] - 2s 22ms/step - loss: 1.1989 - accuracy: 0.5087 - val_loss: 1.2051 - val_accuracy: 0.5003\n",
            "INFO:tensorflow:Assets written to: modelh_90/assets\n",
            "Epoch 22/100\n",
            "89/89 [==============================] - 2s 22ms/step - loss: 1.1486 - accuracy: 0.5370 - val_loss: 1.1895 - val_accuracy: 0.5202\n",
            "INFO:tensorflow:Assets written to: modelh_90/assets\n",
            "Epoch 23/100\n",
            "89/89 [==============================] - 2s 22ms/step - loss: 1.1501 - accuracy: 0.5303 - val_loss: 1.1876 - val_accuracy: 0.5125\n",
            "Epoch 24/100\n",
            "89/89 [==============================] - 2s 22ms/step - loss: 1.1507 - accuracy: 0.5289 - val_loss: 1.1811 - val_accuracy: 0.5274\n",
            "INFO:tensorflow:Assets written to: modelh_90/assets\n",
            "Epoch 25/100\n",
            "89/89 [==============================] - 2s 22ms/step - loss: 1.1163 - accuracy: 0.5526 - val_loss: 1.1659 - val_accuracy: 0.5310\n",
            "INFO:tensorflow:Assets written to: modelh_90/assets\n",
            "Epoch 26/100\n",
            "89/89 [==============================] - 2s 23ms/step - loss: 1.0875 - accuracy: 0.5521 - val_loss: 1.1712 - val_accuracy: 0.5218\n",
            "Epoch 27/100\n",
            "89/89 [==============================] - 2s 22ms/step - loss: 1.0659 - accuracy: 0.5702 - val_loss: 1.1964 - val_accuracy: 0.5218\n",
            "Epoch 28/100\n",
            "89/89 [==============================] - 2s 22ms/step - loss: 1.0900 - accuracy: 0.5571 - val_loss: 1.1332 - val_accuracy: 0.5371\n",
            "INFO:tensorflow:Assets written to: modelh_90/assets\n",
            "Epoch 29/100\n",
            "89/89 [==============================] - 2s 23ms/step - loss: 1.0669 - accuracy: 0.5663 - val_loss: 1.1661 - val_accuracy: 0.5238\n",
            "Epoch 30/100\n",
            "89/89 [==============================] - 2s 22ms/step - loss: 1.0797 - accuracy: 0.5565 - val_loss: 1.1191 - val_accuracy: 0.5484\n",
            "INFO:tensorflow:Assets written to: modelh_90/assets\n",
            "Epoch 31/100\n",
            "89/89 [==============================] - 2s 22ms/step - loss: 1.0464 - accuracy: 0.5726 - val_loss: 1.1029 - val_accuracy: 0.5545\n",
            "INFO:tensorflow:Assets written to: modelh_90/assets\n",
            "Epoch 32/100\n",
            "89/89 [==============================] - 2s 22ms/step - loss: 1.0317 - accuracy: 0.5894 - val_loss: 1.1470 - val_accuracy: 0.5402\n",
            "Epoch 33/100\n",
            "89/89 [==============================] - 2s 22ms/step - loss: 1.0405 - accuracy: 0.5834 - val_loss: 1.1049 - val_accuracy: 0.5550\n",
            "INFO:tensorflow:Assets written to: modelh_90/assets\n",
            "Epoch 34/100\n",
            "89/89 [==============================] - 2s 23ms/step - loss: 1.0346 - accuracy: 0.5886 - val_loss: 1.0962 - val_accuracy: 0.5540\n",
            "Epoch 35/100\n",
            "89/89 [==============================] - 2s 22ms/step - loss: 0.9999 - accuracy: 0.5931 - val_loss: 1.1019 - val_accuracy: 0.5668\n",
            "INFO:tensorflow:Assets written to: modelh_90/assets\n",
            "Epoch 36/100\n",
            "89/89 [==============================] - 2s 21ms/step - loss: 0.9974 - accuracy: 0.6036 - val_loss: 1.0964 - val_accuracy: 0.5632\n",
            "Epoch 37/100\n",
            "89/89 [==============================] - 2s 22ms/step - loss: 1.0147 - accuracy: 0.5904 - val_loss: 1.0827 - val_accuracy: 0.5694\n",
            "INFO:tensorflow:Assets written to: modelh_90/assets\n",
            "Epoch 38/100\n",
            "89/89 [==============================] - 2s 23ms/step - loss: 0.9883 - accuracy: 0.5995 - val_loss: 1.0902 - val_accuracy: 0.5643\n",
            "Epoch 39/100\n",
            "89/89 [==============================] - 2s 22ms/step - loss: 0.9916 - accuracy: 0.6038 - val_loss: 1.1076 - val_accuracy: 0.5699\n",
            "INFO:tensorflow:Assets written to: modelh_90/assets\n",
            "Epoch 40/100\n",
            "89/89 [==============================] - 2s 22ms/step - loss: 0.9884 - accuracy: 0.6081 - val_loss: 1.0835 - val_accuracy: 0.5622\n",
            "Epoch 41/100\n",
            "89/89 [==============================] - 2s 22ms/step - loss: 0.9464 - accuracy: 0.6238 - val_loss: 1.0809 - val_accuracy: 0.5704\n",
            "INFO:tensorflow:Assets written to: modelh_90/assets\n",
            "Epoch 42/100\n",
            "89/89 [==============================] - 2s 22ms/step - loss: 0.9377 - accuracy: 0.6264 - val_loss: 1.1062 - val_accuracy: 0.5730\n",
            "INFO:tensorflow:Assets written to: modelh_90/assets\n",
            "Epoch 43/100\n",
            "89/89 [==============================] - 2s 22ms/step - loss: 0.9414 - accuracy: 0.6172 - val_loss: 1.0717 - val_accuracy: 0.5796\n",
            "INFO:tensorflow:Assets written to: modelh_90/assets\n",
            "Epoch 44/100\n",
            "89/89 [==============================] - 2s 22ms/step - loss: 0.9407 - accuracy: 0.6304 - val_loss: 1.0835 - val_accuracy: 0.5822\n",
            "INFO:tensorflow:Assets written to: modelh_90/assets\n",
            "Epoch 45/100\n",
            "89/89 [==============================] - 2s 23ms/step - loss: 0.9416 - accuracy: 0.6239 - val_loss: 1.0829 - val_accuracy: 0.5735\n",
            "Epoch 46/100\n",
            "89/89 [==============================] - 2s 22ms/step - loss: 0.9195 - accuracy: 0.6359 - val_loss: 1.0571 - val_accuracy: 0.5858\n",
            "INFO:tensorflow:Assets written to: modelh_90/assets\n",
            "Epoch 47/100\n",
            "89/89 [==============================] - 2s 21ms/step - loss: 0.9177 - accuracy: 0.6277 - val_loss: 1.0523 - val_accuracy: 0.5924\n",
            "INFO:tensorflow:Assets written to: modelh_90/assets\n",
            "Epoch 48/100\n",
            "89/89 [==============================] - 2s 23ms/step - loss: 0.8791 - accuracy: 0.6498 - val_loss: 1.0621 - val_accuracy: 0.5996\n",
            "INFO:tensorflow:Assets written to: modelh_90/assets\n",
            "Epoch 49/100\n",
            "89/89 [==============================] - 2s 23ms/step - loss: 0.9059 - accuracy: 0.6415 - val_loss: 1.0470 - val_accuracy: 0.5909\n",
            "Epoch 50/100\n",
            "89/89 [==============================] - 2s 22ms/step - loss: 0.8992 - accuracy: 0.6348 - val_loss: 1.0470 - val_accuracy: 0.5955\n",
            "Epoch 51/100\n",
            "89/89 [==============================] - 2s 22ms/step - loss: 0.8728 - accuracy: 0.6507 - val_loss: 1.0799 - val_accuracy: 0.5832\n",
            "Epoch 52/100\n",
            "89/89 [==============================] - 2s 22ms/step - loss: 0.8584 - accuracy: 0.6571 - val_loss: 1.1044 - val_accuracy: 0.5883\n",
            "Epoch 53/100\n",
            "89/89 [==============================] - 2s 22ms/step - loss: 0.8622 - accuracy: 0.6478 - val_loss: 1.0561 - val_accuracy: 0.6027\n",
            "INFO:tensorflow:Assets written to: modelh_90/assets\n",
            "Epoch 54/100\n",
            "89/89 [==============================] - 2s 22ms/step - loss: 0.8637 - accuracy: 0.6515 - val_loss: 1.0589 - val_accuracy: 0.5955\n",
            "Epoch 55/100\n",
            "89/89 [==============================] - 2s 22ms/step - loss: 0.8553 - accuracy: 0.6563 - val_loss: 1.1100 - val_accuracy: 0.5812\n",
            "Epoch 56/100\n",
            "89/89 [==============================] - 2s 22ms/step - loss: 0.8517 - accuracy: 0.6616 - val_loss: 1.0997 - val_accuracy: 0.6042\n",
            "INFO:tensorflow:Assets written to: modelh_90/assets\n",
            "Epoch 57/100\n",
            "89/89 [==============================] - 2s 22ms/step - loss: 0.8230 - accuracy: 0.6674 - val_loss: 1.0580 - val_accuracy: 0.6052\n",
            "INFO:tensorflow:Assets written to: modelh_90/assets\n",
            "Epoch 58/100\n",
            "89/89 [==============================] - 2s 22ms/step - loss: 0.8569 - accuracy: 0.6471 - val_loss: 1.0662 - val_accuracy: 0.5965\n",
            "Epoch 59/100\n",
            "89/89 [==============================] - 2s 22ms/step - loss: 0.8249 - accuracy: 0.6713 - val_loss: 1.0988 - val_accuracy: 0.6022\n",
            "Epoch 60/100\n",
            "89/89 [==============================] - 2s 23ms/step - loss: 0.8230 - accuracy: 0.6636 - val_loss: 1.0560 - val_accuracy: 0.6083\n",
            "INFO:tensorflow:Assets written to: modelh_90/assets\n",
            "Epoch 61/100\n",
            "89/89 [==============================] - 2s 22ms/step - loss: 0.8185 - accuracy: 0.6643 - val_loss: 1.0448 - val_accuracy: 0.6088\n",
            "INFO:tensorflow:Assets written to: modelh_90/assets\n",
            "Epoch 62/100\n",
            "89/89 [==============================] - 2s 22ms/step - loss: 0.8194 - accuracy: 0.6713 - val_loss: 1.0632 - val_accuracy: 0.6083\n",
            "Epoch 63/100\n",
            "89/89 [==============================] - 2s 22ms/step - loss: 0.7933 - accuracy: 0.6807 - val_loss: 1.0471 - val_accuracy: 0.6078\n",
            "Epoch 64/100\n",
            "89/89 [==============================] - 2s 22ms/step - loss: 0.8182 - accuracy: 0.6730 - val_loss: 1.0701 - val_accuracy: 0.6103\n",
            "INFO:tensorflow:Assets written to: modelh_90/assets\n",
            "Epoch 65/100\n",
            "89/89 [==============================] - 2s 22ms/step - loss: 0.7770 - accuracy: 0.6767 - val_loss: 1.0566 - val_accuracy: 0.6006\n",
            "Epoch 66/100\n",
            "89/89 [==============================] - 2s 22ms/step - loss: 0.7760 - accuracy: 0.6870 - val_loss: 1.0617 - val_accuracy: 0.6032\n",
            "Epoch 67/100\n",
            "89/89 [==============================] - 2s 22ms/step - loss: 0.7847 - accuracy: 0.6730 - val_loss: 1.0448 - val_accuracy: 0.6155\n",
            "INFO:tensorflow:Assets written to: modelh_90/assets\n",
            "Epoch 68/100\n",
            "89/89 [==============================] - 2s 22ms/step - loss: 0.7974 - accuracy: 0.6788 - val_loss: 1.0452 - val_accuracy: 0.6098\n",
            "Epoch 69/100\n",
            "89/89 [==============================] - 2s 22ms/step - loss: 0.7798 - accuracy: 0.6808 - val_loss: 1.0847 - val_accuracy: 0.6068\n",
            "Epoch 70/100\n",
            "89/89 [==============================] - 2s 22ms/step - loss: 0.7854 - accuracy: 0.6839 - val_loss: 1.1074 - val_accuracy: 0.6093\n",
            "Epoch 71/100\n",
            "89/89 [==============================] - 2s 22ms/step - loss: 0.7579 - accuracy: 0.6862 - val_loss: 1.0807 - val_accuracy: 0.6083\n",
            "Epoch 72/100\n",
            "89/89 [==============================] - 2s 22ms/step - loss: 0.7703 - accuracy: 0.6950 - val_loss: 1.0539 - val_accuracy: 0.6190\n",
            "INFO:tensorflow:Assets written to: modelh_90/assets\n",
            "Epoch 73/100\n",
            "89/89 [==============================] - 2s 22ms/step - loss: 0.7789 - accuracy: 0.6780 - val_loss: 1.0701 - val_accuracy: 0.6098\n",
            "Epoch 74/100\n",
            "89/89 [==============================] - 2s 22ms/step - loss: 0.7426 - accuracy: 0.7007 - val_loss: 1.0785 - val_accuracy: 0.6057\n",
            "Epoch 75/100\n",
            "89/89 [==============================] - 2s 22ms/step - loss: 0.7341 - accuracy: 0.6975 - val_loss: 1.0742 - val_accuracy: 0.6175\n",
            "Epoch 76/100\n",
            "89/89 [==============================] - 2s 22ms/step - loss: 0.7441 - accuracy: 0.7005 - val_loss: 1.0733 - val_accuracy: 0.6175\n",
            "Epoch 77/100\n",
            "89/89 [==============================] - 2s 22ms/step - loss: 0.7439 - accuracy: 0.6945 - val_loss: 1.0872 - val_accuracy: 0.6196\n",
            "INFO:tensorflow:Assets written to: modelh_90/assets\n",
            "Epoch 78/100\n",
            "89/89 [==============================] - 2s 22ms/step - loss: 0.7398 - accuracy: 0.6954 - val_loss: 1.0689 - val_accuracy: 0.6134\n",
            "Epoch 79/100\n",
            "89/89 [==============================] - 2s 23ms/step - loss: 0.7474 - accuracy: 0.6927 - val_loss: 1.0869 - val_accuracy: 0.6221\n",
            "INFO:tensorflow:Assets written to: modelh_90/assets\n",
            "Epoch 80/100\n",
            "89/89 [==============================] - 2s 22ms/step - loss: 0.7478 - accuracy: 0.6997 - val_loss: 1.1041 - val_accuracy: 0.6160\n",
            "Epoch 81/100\n",
            "89/89 [==============================] - 2s 23ms/step - loss: 0.7584 - accuracy: 0.6843 - val_loss: 1.0739 - val_accuracy: 0.6155\n",
            "Epoch 82/100\n",
            "89/89 [==============================] - 2s 23ms/step - loss: 0.7200 - accuracy: 0.7068 - val_loss: 1.0962 - val_accuracy: 0.6211\n",
            "Epoch 83/100\n",
            "89/89 [==============================] - 2s 22ms/step - loss: 0.7222 - accuracy: 0.7026 - val_loss: 1.0806 - val_accuracy: 0.6216\n",
            "Epoch 84/100\n",
            "89/89 [==============================] - 2s 22ms/step - loss: 0.7038 - accuracy: 0.7112 - val_loss: 1.0630 - val_accuracy: 0.6288\n",
            "INFO:tensorflow:Assets written to: modelh_90/assets\n",
            "Epoch 85/100\n",
            "89/89 [==============================] - 2s 22ms/step - loss: 0.7085 - accuracy: 0.7046 - val_loss: 1.0621 - val_accuracy: 0.6201\n",
            "Epoch 86/100\n",
            "89/89 [==============================] - 2s 22ms/step - loss: 0.7114 - accuracy: 0.7042 - val_loss: 1.1049 - val_accuracy: 0.6165\n",
            "Epoch 87/100\n",
            "89/89 [==============================] - 2s 22ms/step - loss: 0.7021 - accuracy: 0.7111 - val_loss: 1.1420 - val_accuracy: 0.6196\n",
            "Epoch 88/100\n",
            "89/89 [==============================] - 2s 22ms/step - loss: 0.7397 - accuracy: 0.6967 - val_loss: 1.1476 - val_accuracy: 0.6211\n",
            "Epoch 89/100\n",
            "89/89 [==============================] - 2s 23ms/step - loss: 0.7299 - accuracy: 0.6994 - val_loss: 1.0990 - val_accuracy: 0.6206\n",
            "Epoch 90/100\n",
            "89/89 [==============================] - 2s 22ms/step - loss: 0.6674 - accuracy: 0.7186 - val_loss: 1.0979 - val_accuracy: 0.6329\n",
            "INFO:tensorflow:Assets written to: modelh_90/assets\n",
            "Epoch 91/100\n",
            "89/89 [==============================] - 2s 22ms/step - loss: 0.6821 - accuracy: 0.7153 - val_loss: 1.1155 - val_accuracy: 0.6344\n",
            "INFO:tensorflow:Assets written to: modelh_90/assets\n",
            "Epoch 92/100\n",
            "89/89 [==============================] - 2s 22ms/step - loss: 0.6858 - accuracy: 0.7153 - val_loss: 1.1545 - val_accuracy: 0.6349\n",
            "INFO:tensorflow:Assets written to: modelh_90/assets\n",
            "Epoch 93/100\n",
            "89/89 [==============================] - 2s 22ms/step - loss: 0.6954 - accuracy: 0.7144 - val_loss: 1.1304 - val_accuracy: 0.6252\n",
            "Epoch 94/100\n",
            "89/89 [==============================] - 2s 22ms/step - loss: 0.6840 - accuracy: 0.7147 - val_loss: 1.1421 - val_accuracy: 0.6318\n",
            "Epoch 95/100\n",
            "89/89 [==============================] - 2s 22ms/step - loss: 0.6548 - accuracy: 0.7346 - val_loss: 1.1141 - val_accuracy: 0.6329\n",
            "Epoch 96/100\n",
            "89/89 [==============================] - 2s 22ms/step - loss: 0.6765 - accuracy: 0.7351 - val_loss: 1.0786 - val_accuracy: 0.6672\n",
            "INFO:tensorflow:Assets written to: modelh_90/assets\n",
            "Epoch 97/100\n",
            "89/89 [==============================] - 2s 22ms/step - loss: 0.6645 - accuracy: 0.7295 - val_loss: 1.1334 - val_accuracy: 0.6534\n",
            "Epoch 98/100\n",
            "89/89 [==============================] - 2s 22ms/step - loss: 0.6445 - accuracy: 0.7411 - val_loss: 1.1279 - val_accuracy: 0.6692\n",
            "INFO:tensorflow:Assets written to: modelh_90/assets\n",
            "Epoch 99/100\n",
            "89/89 [==============================] - 2s 22ms/step - loss: 0.6404 - accuracy: 0.7457 - val_loss: 1.1147 - val_accuracy: 0.6610\n",
            "Epoch 100/100\n",
            "89/89 [==============================] - 2s 22ms/step - loss: 0.6176 - accuracy: 0.7501 - val_loss: 1.0890 - val_accuracy: 0.6815\n",
            "INFO:tensorflow:Assets written to: modelh_90/assets\n",
            "h=90:\n",
            "\n"
          ],
          "name": "stdout"
        },
        {
          "output_type": "display_data",
          "data": {
            "image/png": "[encoded data removed]",
            "text/plain": [
              "<Figure size 432x288 with 1 Axes>"
            ]
          },
          "metadata": {
            "tags": [],
            "needs_background": "light"
          }
        },
        {
          "output_type": "display_data",
          "data": {
            "image/png": "[encoded data removed]",
            "text/plain": [
              "<Figure size 432x288 with 1 Axes>"
            ]
          },
          "metadata": {
            "tags": [],
            "needs_background": "light"
          }
        },
        {
          "output_type": "stream",
          "text": [
            "Train:\n",
            " Predicted      BITSTREAMVERA   CENTURY  CONSOLAS    EBRIMA      GILL\n",
            "Actual                                                              \n",
            "BITSTREAMVERA       0.834501  0.000000  0.023181  0.002156  0.140162\n",
            "CENTURY             0.009248  0.827990  0.042540  0.025894  0.094328\n",
            "CONSOLAS            0.025598  0.012243  0.846411  0.033389  0.082359\n",
            "EBRIMA              0.017467  0.016012  0.125182  0.794032  0.047307\n",
            "GILL                0.074074  0.012059  0.123170  0.012059  0.778639 \n",
            "global:  0.8204635676783198\n",
            "\n",
            "Test:\n",
            " Predicted      BITSTREAMVERA   CENTURY  CONSOLAS    EBRIMA      GILL\n",
            "Actual                                                              \n",
            "BITSTREAMVERA       0.750567  0.006803  0.070295  0.006803  0.165533\n",
            "CENTURY             0.005305  0.790451  0.053050  0.058355  0.092838\n",
            "CONSOLAS            0.057377  0.045082  0.655738  0.137295  0.104508\n",
            "EBRIMA              0.060172  0.068768  0.206304  0.575931  0.088825\n",
            "GILL                0.147651  0.033557  0.151007  0.060403  0.607383 \n",
            "global:  0.6815156169994879\n"
          ],
          "name": "stdout"
        }
      ]
    },
    {
      "cell_type": "markdown",
      "metadata": {
        "id": "1LNxkj7Z_pwm"
      },
      "source": [
        "h=150"
      ]
    },
    {
      "cell_type": "code",
      "metadata": {
        "id": "-iJjy6DX_oSX",
        "outputId": "2af2391a-6f33-4f0a-888b-73acdc3e9cc2",
        "colab": {
          "base_uri": "https://localhost:8080/",
          "height": 1000
        }
      },
      "source": [
        "model = models.Sequential()\n",
        "model.add(layers.Conv2D(16, (5, 5), activation='relu', input_shape=(20, 20, 1)))\n",
        "model.add(layers.MaxPooling2D((2, 2), strides= 2))\n",
        "model.add(layers.Conv2D(16, (3, 3), activation='relu'))\n",
        "model.add(layers.MaxPooling2D((2, 2), strides= 2))\n",
        "model.add(layers.Flatten())\n",
        "model.add(layers.Dense(150, activation='relu')) \n",
        "model.add(layers.Dropout(0.5))\n",
        "model.add(layers.Dense(5, activation='softmax'))\n",
        "#model.summary()\n",
        "\n",
        "checkpointer = ModelCheckpoint('modelh_150', monitor='val_accuracy', save_best_only=True)\n",
        "model.compile(optimizer='adam', loss=tf.keras.losses.CategoricalCrossentropy(from_logits=True), metrics=['accuracy'])\n",
        "monitor = model.fit(x_train, tf.one_hot(pd.Series(y_train,dtype='category').astype('category').cat.codes,5), epochs=100, batch_size= int(len(train)**0.5),\n",
        "                    validation_data=(x_test, tf.one_hot(pd.Series(y_test, dtype='category').astype('category').cat.codes,5)), callbacks=[checkpointer])\n",
        "\n",
        "print('h=150:\\n'); plotCrssEntr(monitor); plotAcc(monitor)\n",
        "\n",
        "trainConf, trainGlobal = conf(y_train, ypred(x_train, monitor.model))\n",
        "print('Train:\\n', trainConf,'\\nGlobal: ', trainGlobal)\n",
        "\n",
        "testConf, testGlobal = conf(y_test, ypred(x_test, monitor.model))\n",
        "print('\\nTest:\\n', testConf, '\\nGlobal: ', testGlobal)"
      ],
      "execution_count": 9,
      "outputs": [
        {
          "output_type": "stream",
          "text": [
            "Epoch 1/100\n",
            "89/89 [==============================] - 3s 25ms/step - loss: 13.2162 - accuracy: 0.2416 - val_loss: 1.5536 - val_accuracy: 0.2970\n",
            "INFO:tensorflow:Assets written to: modelh_150/assets\n",
            "Epoch 2/100\n",
            "89/89 [==============================] - 2s 23ms/step - loss: 1.5861 - accuracy: 0.2991 - val_loss: 1.5050 - val_accuracy: 0.3364\n",
            "INFO:tensorflow:Assets written to: modelh_150/assets\n",
            "Epoch 3/100\n",
            "89/89 [==============================] - 2s 22ms/step - loss: 1.5317 - accuracy: 0.3274 - val_loss: 1.4823 - val_accuracy: 0.3605\n",
            "INFO:tensorflow:Assets written to: modelh_150/assets\n",
            "Epoch 4/100\n",
            "89/89 [==============================] - 2s 22ms/step - loss: 1.4713 - accuracy: 0.3536 - val_loss: 1.4418 - val_accuracy: 0.3784\n",
            "INFO:tensorflow:Assets written to: modelh_150/assets\n",
            "Epoch 5/100\n",
            "89/89 [==============================] - 2s 22ms/step - loss: 1.4347 - accuracy: 0.3948 - val_loss: 1.3963 - val_accuracy: 0.4107\n",
            "INFO:tensorflow:Assets written to: modelh_150/assets\n",
            "Epoch 6/100\n",
            "89/89 [==============================] - 2s 23ms/step - loss: 1.4074 - accuracy: 0.3971 - val_loss: 1.3681 - val_accuracy: 0.4204\n",
            "INFO:tensorflow:Assets written to: modelh_150/assets\n",
            "Epoch 7/100\n",
            "89/89 [==============================] - 2s 22ms/step - loss: 1.3516 - accuracy: 0.4284 - val_loss: 1.3302 - val_accuracy: 0.4424\n",
            "INFO:tensorflow:Assets written to: modelh_150/assets\n",
            "Epoch 8/100\n",
            "89/89 [==============================] - 2s 23ms/step - loss: 1.3467 - accuracy: 0.4341 - val_loss: 1.3639 - val_accuracy: 0.4137\n",
            "Epoch 9/100\n",
            "89/89 [==============================] - 2s 22ms/step - loss: 1.3223 - accuracy: 0.4364 - val_loss: 1.2980 - val_accuracy: 0.4537\n",
            "INFO:tensorflow:Assets written to: modelh_150/assets\n",
            "Epoch 10/100\n",
            "89/89 [==============================] - 2s 22ms/step - loss: 1.2856 - accuracy: 0.4555 - val_loss: 1.2913 - val_accuracy: 0.4567\n",
            "INFO:tensorflow:Assets written to: modelh_150/assets\n",
            "Epoch 11/100\n",
            "89/89 [==============================] - 2s 22ms/step - loss: 1.2542 - accuracy: 0.4737 - val_loss: 1.2524 - val_accuracy: 0.4777\n",
            "INFO:tensorflow:Assets written to: modelh_150/assets\n",
            "Epoch 12/100\n",
            "89/89 [==============================] - 2s 22ms/step - loss: 1.2339 - accuracy: 0.4980 - val_loss: 1.2550 - val_accuracy: 0.4777\n",
            "Epoch 13/100\n",
            "89/89 [==============================] - 2s 21ms/step - loss: 1.2146 - accuracy: 0.4948 - val_loss: 1.2420 - val_accuracy: 0.4828\n",
            "INFO:tensorflow:Assets written to: modelh_150/assets\n",
            "Epoch 14/100\n",
            "89/89 [==============================] - 2s 22ms/step - loss: 1.1798 - accuracy: 0.5134 - val_loss: 1.2204 - val_accuracy: 0.4859\n",
            "INFO:tensorflow:Assets written to: modelh_150/assets\n",
            "Epoch 15/100\n",
            "89/89 [==============================] - 2s 22ms/step - loss: 1.1556 - accuracy: 0.5190 - val_loss: 1.2218 - val_accuracy: 0.4895\n",
            "INFO:tensorflow:Assets written to: modelh_150/assets\n",
            "Epoch 16/100\n",
            "89/89 [==============================] - 2s 22ms/step - loss: 1.1629 - accuracy: 0.5185 - val_loss: 1.2102 - val_accuracy: 0.4900\n",
            "INFO:tensorflow:Assets written to: modelh_150/assets\n",
            "Epoch 17/100\n",
            "89/89 [==============================] - 2s 22ms/step - loss: 1.1450 - accuracy: 0.5320 - val_loss: 1.2145 - val_accuracy: 0.5013\n",
            "INFO:tensorflow:Assets written to: modelh_150/assets\n",
            "Epoch 18/100\n",
            "89/89 [==============================] - 2s 22ms/step - loss: 1.1120 - accuracy: 0.5416 - val_loss: 1.2102 - val_accuracy: 0.4905\n",
            "Epoch 19/100\n",
            "89/89 [==============================] - 2s 22ms/step - loss: 1.1168 - accuracy: 0.5461 - val_loss: 1.1703 - val_accuracy: 0.5218\n",
            "INFO:tensorflow:Assets written to: modelh_150/assets\n",
            "Epoch 20/100\n",
            "89/89 [==============================] - 2s 22ms/step - loss: 1.1078 - accuracy: 0.5360 - val_loss: 1.1476 - val_accuracy: 0.5243\n",
            "INFO:tensorflow:Assets written to: modelh_150/assets\n",
            "Epoch 21/100\n",
            "89/89 [==============================] - 2s 22ms/step - loss: 1.0746 - accuracy: 0.5595 - val_loss: 1.1362 - val_accuracy: 0.5330\n",
            "INFO:tensorflow:Assets written to: modelh_150/assets\n",
            "Epoch 22/100\n",
            "89/89 [==============================] - 2s 22ms/step - loss: 1.0523 - accuracy: 0.5743 - val_loss: 1.1341 - val_accuracy: 0.5269\n",
            "Epoch 23/100\n",
            "89/89 [==============================] - 2s 22ms/step - loss: 1.0461 - accuracy: 0.5720 - val_loss: 1.1228 - val_accuracy: 0.5433\n",
            "INFO:tensorflow:Assets written to: modelh_150/assets\n",
            "Epoch 24/100\n",
            "89/89 [==============================] - 2s 22ms/step - loss: 1.0335 - accuracy: 0.5825 - val_loss: 1.1176 - val_accuracy: 0.5433\n",
            "Epoch 25/100\n",
            "89/89 [==============================] - 2s 22ms/step - loss: 1.0247 - accuracy: 0.5818 - val_loss: 1.1352 - val_accuracy: 0.5330\n",
            "Epoch 26/100\n",
            "89/89 [==============================] - 2s 22ms/step - loss: 1.0024 - accuracy: 0.5852 - val_loss: 1.0999 - val_accuracy: 0.5591\n",
            "INFO:tensorflow:Assets written to: modelh_150/assets\n",
            "Epoch 27/100\n",
            "89/89 [==============================] - 2s 23ms/step - loss: 0.9806 - accuracy: 0.6008 - val_loss: 1.0940 - val_accuracy: 0.5678\n",
            "INFO:tensorflow:Assets written to: modelh_150/assets\n",
            "Epoch 28/100\n",
            "89/89 [==============================] - 2s 22ms/step - loss: 0.9598 - accuracy: 0.6089 - val_loss: 1.0756 - val_accuracy: 0.5684\n",
            "INFO:tensorflow:Assets written to: modelh_150/assets\n",
            "Epoch 29/100\n",
            "89/89 [==============================] - 2s 22ms/step - loss: 0.9447 - accuracy: 0.6113 - val_loss: 1.0545 - val_accuracy: 0.5771\n",
            "INFO:tensorflow:Assets written to: modelh_150/assets\n",
            "Epoch 30/100\n",
            "89/89 [==============================] - 2s 22ms/step - loss: 0.9284 - accuracy: 0.6227 - val_loss: 1.0819 - val_accuracy: 0.5725\n",
            "Epoch 31/100\n",
            "89/89 [==============================] - 2s 22ms/step - loss: 0.9337 - accuracy: 0.6221 - val_loss: 1.0719 - val_accuracy: 0.5832\n",
            "INFO:tensorflow:Assets written to: modelh_150/assets\n",
            "Epoch 32/100\n",
            "89/89 [==============================] - 2s 23ms/step - loss: 0.8977 - accuracy: 0.6377 - val_loss: 1.0488 - val_accuracy: 0.5873\n",
            "INFO:tensorflow:Assets written to: modelh_150/assets\n",
            "Epoch 33/100\n",
            "89/89 [==============================] - 2s 22ms/step - loss: 0.8989 - accuracy: 0.6394 - val_loss: 1.0563 - val_accuracy: 0.5975\n",
            "INFO:tensorflow:Assets written to: modelh_150/assets\n",
            "Epoch 34/100\n",
            "89/89 [==============================] - 2s 23ms/step - loss: 0.8804 - accuracy: 0.6437 - val_loss: 1.0406 - val_accuracy: 0.5914\n",
            "Epoch 35/100\n",
            "89/89 [==============================] - 2s 22ms/step - loss: 0.8822 - accuracy: 0.6436 - val_loss: 1.0371 - val_accuracy: 0.6073\n",
            "INFO:tensorflow:Assets written to: modelh_150/assets\n",
            "Epoch 36/100\n",
            "89/89 [==============================] - 2s 22ms/step - loss: 0.8732 - accuracy: 0.6493 - val_loss: 1.0508 - val_accuracy: 0.5924\n",
            "Epoch 37/100\n",
            "89/89 [==============================] - 2s 22ms/step - loss: 0.8495 - accuracy: 0.6642 - val_loss: 1.0339 - val_accuracy: 0.6027\n",
            "Epoch 38/100\n",
            "89/89 [==============================] - 2s 22ms/step - loss: 0.8431 - accuracy: 0.6667 - val_loss: 1.0556 - val_accuracy: 0.6078\n",
            "INFO:tensorflow:Assets written to: modelh_150/assets\n",
            "Epoch 39/100\n",
            "89/89 [==============================] - 2s 23ms/step - loss: 0.8552 - accuracy: 0.6502 - val_loss: 1.0874 - val_accuracy: 0.5909\n",
            "Epoch 40/100\n",
            "89/89 [==============================] - 2s 23ms/step - loss: 0.8770 - accuracy: 0.6488 - val_loss: 1.0295 - val_accuracy: 0.6165\n",
            "INFO:tensorflow:Assets written to: modelh_150/assets\n",
            "Epoch 41/100\n",
            "89/89 [==============================] - 2s 23ms/step - loss: 0.8049 - accuracy: 0.6805 - val_loss: 1.0341 - val_accuracy: 0.6042\n",
            "Epoch 42/100\n",
            "89/89 [==============================] - 2s 22ms/step - loss: 0.8204 - accuracy: 0.6685 - val_loss: 1.0088 - val_accuracy: 0.6339\n",
            "INFO:tensorflow:Assets written to: modelh_150/assets\n",
            "Epoch 43/100\n",
            "89/89 [==============================] - 2s 23ms/step - loss: 0.8035 - accuracy: 0.6813 - val_loss: 1.0123 - val_accuracy: 0.6257\n",
            "Epoch 44/100\n",
            "89/89 [==============================] - 2s 22ms/step - loss: 0.7870 - accuracy: 0.6859 - val_loss: 1.0320 - val_accuracy: 0.6303\n",
            "Epoch 45/100\n",
            "89/89 [==============================] - 2s 22ms/step - loss: 0.7762 - accuracy: 0.6838 - val_loss: 1.0466 - val_accuracy: 0.6242\n",
            "Epoch 46/100\n",
            "89/89 [==============================] - 2s 23ms/step - loss: 0.7914 - accuracy: 0.6838 - val_loss: 1.0038 - val_accuracy: 0.6349\n",
            "INFO:tensorflow:Assets written to: modelh_150/assets\n",
            "Epoch 47/100\n",
            "89/89 [==============================] - 2s 22ms/step - loss: 0.7486 - accuracy: 0.7036 - val_loss: 0.9863 - val_accuracy: 0.6324\n",
            "Epoch 48/100\n",
            "89/89 [==============================] - 2s 22ms/step - loss: 0.7444 - accuracy: 0.7028 - val_loss: 1.0445 - val_accuracy: 0.6242\n",
            "Epoch 49/100\n",
            "89/89 [==============================] - 2s 22ms/step - loss: 0.7448 - accuracy: 0.7076 - val_loss: 0.9849 - val_accuracy: 0.6457\n",
            "INFO:tensorflow:Assets written to: modelh_150/assets\n",
            "Epoch 50/100\n",
            "89/89 [==============================] - 2s 22ms/step - loss: 0.7412 - accuracy: 0.7079 - val_loss: 1.0187 - val_accuracy: 0.6339\n",
            "Epoch 51/100\n",
            "89/89 [==============================] - 2s 22ms/step - loss: 0.7288 - accuracy: 0.7062 - val_loss: 1.0032 - val_accuracy: 0.6477\n",
            "INFO:tensorflow:Assets written to: modelh_150/assets\n",
            "Epoch 52/100\n",
            "89/89 [==============================] - 2s 22ms/step - loss: 0.7018 - accuracy: 0.7259 - val_loss: 0.9782 - val_accuracy: 0.6610\n",
            "INFO:tensorflow:Assets written to: modelh_150/assets\n",
            "Epoch 53/100\n",
            "89/89 [==============================] - 2s 22ms/step - loss: 0.7062 - accuracy: 0.7228 - val_loss: 0.9939 - val_accuracy: 0.6493\n",
            "Epoch 54/100\n",
            "89/89 [==============================] - 2s 22ms/step - loss: 0.6845 - accuracy: 0.7333 - val_loss: 0.9879 - val_accuracy: 0.6600\n",
            "Epoch 55/100\n",
            "89/89 [==============================] - 2s 22ms/step - loss: 0.6824 - accuracy: 0.7308 - val_loss: 1.0050 - val_accuracy: 0.6554\n",
            "Epoch 56/100\n",
            "89/89 [==============================] - 2s 23ms/step - loss: 0.6937 - accuracy: 0.7313 - val_loss: 0.9897 - val_accuracy: 0.6590\n",
            "Epoch 57/100\n",
            "89/89 [==============================] - 2s 23ms/step - loss: 0.6827 - accuracy: 0.7326 - val_loss: 1.0163 - val_accuracy: 0.6621\n",
            "INFO:tensorflow:Assets written to: modelh_150/assets\n",
            "Epoch 58/100\n",
            "89/89 [==============================] - 2s 23ms/step - loss: 0.6407 - accuracy: 0.7427 - val_loss: 1.0153 - val_accuracy: 0.6621\n",
            "Epoch 59/100\n",
            "89/89 [==============================] - 2s 23ms/step - loss: 0.6707 - accuracy: 0.7427 - val_loss: 1.0040 - val_accuracy: 0.6728\n",
            "INFO:tensorflow:Assets written to: modelh_150/assets\n",
            "Epoch 60/100\n",
            "89/89 [==============================] - 2s 23ms/step - loss: 0.6702 - accuracy: 0.7385 - val_loss: 1.0114 - val_accuracy: 0.6759\n",
            "INFO:tensorflow:Assets written to: modelh_150/assets\n",
            "Epoch 61/100\n",
            "89/89 [==============================] - 2s 23ms/step - loss: 0.6472 - accuracy: 0.7479 - val_loss: 1.0503 - val_accuracy: 0.6595\n",
            "Epoch 62/100\n",
            "89/89 [==============================] - 2s 23ms/step - loss: 0.6406 - accuracy: 0.7479 - val_loss: 1.0019 - val_accuracy: 0.6723\n",
            "Epoch 63/100\n",
            "89/89 [==============================] - 2s 22ms/step - loss: 0.6256 - accuracy: 0.7535 - val_loss: 1.0125 - val_accuracy: 0.6800\n",
            "INFO:tensorflow:Assets written to: modelh_150/assets\n",
            "Epoch 64/100\n",
            "89/89 [==============================] - 2s 23ms/step - loss: 0.6224 - accuracy: 0.7561 - val_loss: 1.0202 - val_accuracy: 0.6779\n",
            "Epoch 65/100\n",
            "89/89 [==============================] - 2s 23ms/step - loss: 0.6240 - accuracy: 0.7586 - val_loss: 1.0064 - val_accuracy: 0.6902\n",
            "INFO:tensorflow:Assets written to: modelh_150/assets\n",
            "Epoch 66/100\n",
            "89/89 [==============================] - 2s 22ms/step - loss: 0.6002 - accuracy: 0.7626 - val_loss: 1.0196 - val_accuracy: 0.6764\n",
            "Epoch 67/100\n",
            "89/89 [==============================] - 2s 23ms/step - loss: 0.6183 - accuracy: 0.7553 - val_loss: 1.0366 - val_accuracy: 0.6575\n",
            "Epoch 68/100\n",
            "89/89 [==============================] - 2s 23ms/step - loss: 0.5822 - accuracy: 0.7709 - val_loss: 1.0236 - val_accuracy: 0.6820\n",
            "Epoch 69/100\n",
            "89/89 [==============================] - 2s 22ms/step - loss: 0.5937 - accuracy: 0.7675 - val_loss: 1.0288 - val_accuracy: 0.6856\n",
            "Epoch 70/100\n",
            "89/89 [==============================] - 2s 22ms/step - loss: 0.5794 - accuracy: 0.7771 - val_loss: 1.0314 - val_accuracy: 0.6749\n",
            "Epoch 71/100\n",
            "89/89 [==============================] - 2s 22ms/step - loss: 0.5770 - accuracy: 0.7727 - val_loss: 1.0119 - val_accuracy: 0.6866\n",
            "Epoch 72/100\n",
            "89/89 [==============================] - 2s 22ms/step - loss: 0.5686 - accuracy: 0.7757 - val_loss: 1.0200 - val_accuracy: 0.6769\n",
            "Epoch 73/100\n",
            "89/89 [==============================] - 2s 23ms/step - loss: 0.5674 - accuracy: 0.7825 - val_loss: 1.0130 - val_accuracy: 0.6800\n",
            "Epoch 74/100\n",
            "89/89 [==============================] - 2s 22ms/step - loss: 0.5860 - accuracy: 0.7679 - val_loss: 1.0459 - val_accuracy: 0.6754\n",
            "Epoch 75/100\n",
            "89/89 [==============================] - 2s 22ms/step - loss: 0.5927 - accuracy: 0.7696 - val_loss: 1.0362 - val_accuracy: 0.6774\n",
            "Epoch 76/100\n",
            "89/89 [==============================] - 2s 23ms/step - loss: 0.5634 - accuracy: 0.7733 - val_loss: 1.0386 - val_accuracy: 0.6836\n",
            "Epoch 77/100\n",
            "89/89 [==============================] - 2s 22ms/step - loss: 0.5492 - accuracy: 0.7886 - val_loss: 1.0787 - val_accuracy: 0.6631\n",
            "Epoch 78/100\n",
            "89/89 [==============================] - 2s 23ms/step - loss: 0.5300 - accuracy: 0.7872 - val_loss: 1.0515 - val_accuracy: 0.6851\n",
            "Epoch 79/100\n",
            "89/89 [==============================] - 2s 24ms/step - loss: 0.5351 - accuracy: 0.7878 - val_loss: 1.1212 - val_accuracy: 0.6656\n",
            "Epoch 80/100\n",
            "89/89 [==============================] - 2s 22ms/step - loss: 0.5468 - accuracy: 0.7812 - val_loss: 1.0821 - val_accuracy: 0.6733\n",
            "Epoch 81/100\n",
            "89/89 [==============================] - 2s 23ms/step - loss: 0.5694 - accuracy: 0.7765 - val_loss: 1.0914 - val_accuracy: 0.6856\n",
            "Epoch 82/100\n",
            "89/89 [==============================] - 2s 23ms/step - loss: 0.5404 - accuracy: 0.7849 - val_loss: 1.0421 - val_accuracy: 0.6861\n",
            "Epoch 83/100\n",
            "89/89 [==============================] - 2s 23ms/step - loss: 0.5164 - accuracy: 0.7909 - val_loss: 1.0764 - val_accuracy: 0.6866\n",
            "Epoch 84/100\n",
            "89/89 [==============================] - 2s 23ms/step - loss: 0.5161 - accuracy: 0.8012 - val_loss: 1.0702 - val_accuracy: 0.6871\n",
            "Epoch 85/100\n",
            "89/89 [==============================] - 2s 23ms/step - loss: 0.5473 - accuracy: 0.7781 - val_loss: 1.1017 - val_accuracy: 0.6923\n",
            "INFO:tensorflow:Assets written to: modelh_150/assets\n",
            "Epoch 86/100\n",
            "89/89 [==============================] - 2s 22ms/step - loss: 0.5278 - accuracy: 0.7983 - val_loss: 1.1053 - val_accuracy: 0.6877\n",
            "Epoch 87/100\n",
            "89/89 [==============================] - 2s 23ms/step - loss: 0.5387 - accuracy: 0.7954 - val_loss: 1.1181 - val_accuracy: 0.6784\n",
            "Epoch 88/100\n",
            "89/89 [==============================] - 2s 23ms/step - loss: 0.5393 - accuracy: 0.7876 - val_loss: 1.1238 - val_accuracy: 0.6790\n",
            "Epoch 89/100\n",
            "89/89 [==============================] - 2s 22ms/step - loss: 0.4973 - accuracy: 0.8012 - val_loss: 1.1330 - val_accuracy: 0.6790\n",
            "Epoch 90/100\n",
            "89/89 [==============================] - 2s 22ms/step - loss: 0.5041 - accuracy: 0.7955 - val_loss: 1.1080 - val_accuracy: 0.6984\n",
            "INFO:tensorflow:Assets written to: modelh_150/assets\n",
            "Epoch 91/100\n",
            "89/89 [==============================] - 2s 23ms/step - loss: 0.4807 - accuracy: 0.8170 - val_loss: 1.1518 - val_accuracy: 0.6912\n",
            "Epoch 92/100\n",
            "89/89 [==============================] - 2s 23ms/step - loss: 0.5032 - accuracy: 0.7993 - val_loss: 1.1282 - val_accuracy: 0.7056\n",
            "INFO:tensorflow:Assets written to: modelh_150/assets\n",
            "Epoch 93/100\n",
            "89/89 [==============================] - 2s 22ms/step - loss: 0.4782 - accuracy: 0.8103 - val_loss: 1.1153 - val_accuracy: 0.7066\n",
            "INFO:tensorflow:Assets written to: modelh_150/assets\n",
            "Epoch 94/100\n",
            "89/89 [==============================] - 2s 22ms/step - loss: 0.4799 - accuracy: 0.8101 - val_loss: 1.1593 - val_accuracy: 0.6943\n",
            "Epoch 95/100\n",
            "89/89 [==============================] - 2s 23ms/step - loss: 0.4737 - accuracy: 0.8191 - val_loss: 1.1701 - val_accuracy: 0.6918\n",
            "Epoch 96/100\n",
            "89/89 [==============================] - 2s 23ms/step - loss: 0.4894 - accuracy: 0.8057 - val_loss: 1.1957 - val_accuracy: 0.6974\n",
            "Epoch 97/100\n",
            "89/89 [==============================] - 2s 23ms/step - loss: 0.4825 - accuracy: 0.8104 - val_loss: 1.1633 - val_accuracy: 0.7061\n",
            "Epoch 98/100\n",
            "89/89 [==============================] - 2s 23ms/step - loss: 0.4708 - accuracy: 0.8189 - val_loss: 1.1794 - val_accuracy: 0.7005\n",
            "Epoch 99/100\n",
            "89/89 [==============================] - 2s 23ms/step - loss: 0.4650 - accuracy: 0.8252 - val_loss: 1.1430 - val_accuracy: 0.7035\n",
            "Epoch 100/100\n",
            "89/89 [==============================] - 2s 23ms/step - loss: 0.4378 - accuracy: 0.8326 - val_loss: 1.1802 - val_accuracy: 0.6928\n",
            "h=150:\n",
            "\n"
          ],
          "name": "stdout"
        },
        {
          "output_type": "display_data",
          "data": {
            "image/png": "[encoded data removed]",
            "text/plain": [
              "<Figure size 432x288 with 1 Axes>"
            ]
          },
          "metadata": {
            "tags": [],
            "needs_background": "light"
          }
        },
        {
          "output_type": "display_data",
          "data": {
            "image/png": "[encoded data removed]",
            "text/plain": [
              "<Figure size 432x288 with 1 Axes>"
            ]
          },
          "metadata": {
            "tags": [],
            "needs_background": "light"
          }
        },
        {
          "output_type": "stream",
          "text": [
            "Train:\n",
            " Predicted      BITSTREAMVERA   CENTURY  CONSOLAS    EBRIMA      GILL\n",
            "Actual                                                              \n",
            "BITSTREAMVERA       0.860377  0.001078  0.004852  0.000539  0.133154\n",
            "CENTURY             0.007398  0.895191  0.012947  0.006165  0.078298\n",
            "CONSOLAS            0.033945  0.013356  0.869226  0.009460  0.074012\n",
            "EBRIMA              0.017467  0.024017  0.053130  0.848617  0.056769\n",
            "GILL                0.054264  0.008613  0.021533  0.001723  0.913867 \n",
            "Global:  0.8755282366500192\n",
            "\n",
            "Test:\n",
            " Predicted      BITSTREAMVERA   CENTURY  CONSOLAS    EBRIMA      GILL\n",
            "Actual                                                              \n",
            "BITSTREAMVERA       0.791383  0.004535  0.031746  0.006803  0.165533\n",
            "CENTURY             0.015915  0.819629  0.053050  0.042440  0.068966\n",
            "CONSOLAS            0.071721  0.065574  0.655738  0.090164  0.116803\n",
            "EBRIMA              0.042980  0.114613  0.220630  0.501433  0.120344\n",
            "GILL                0.154362  0.046980  0.090604  0.036913  0.671141 \n",
            "Global:  0.6927803379416283\n"
          ],
          "name": "stdout"
        }
      ]
    }
  ]
}
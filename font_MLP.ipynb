{
  "nbformat": 4,
  "nbformat_minor": 0,
  "metadata": {
    "colab": {
      "name": "Untitled0.ipynb",
      "provenance": [],
      "include_colab_link": true
    },
    "kernelspec": {
      "name": "python3",
      "display_name": "Python 3"
    }
  },
  "cells": [
    {
      "cell_type": "markdown",
      "metadata": {
        "id": "view-in-github",
        "colab_type": "text"
      },
      "source": [
        "<a href=\"https://colab.research.google.com/github/skduong/font-analysis/blob/main/font_MLP.ipynb\" target=\"_parent\"><img src=\"https://colab.research.google.com/assets/colab-badge.svg\" alt=\"Open In Colab\"/></a>"
      ]
    },
    {
      "cell_type": "markdown",
      "metadata": {
        "id": "CG4-0Pt9dVIX"
      },
      "source": [
        "Packages"
      ]
    },
    {
      "cell_type": "code",
      "metadata": {
        "id": "yuUYKw2Ub_1i"
      },
      "source": [
        "import pandas as pd\n",
        "import numpy as np\n",
        "import functools\n",
        "import sklearn as sk\n",
        "from sklearn.preprocessing import StandardScaler\n",
        "from sklearn.model_selection import train_test_split\n",
        "from sklearn.decomposition import PCA\n",
        "import matplotlib.pyplot as plt"
      ],
      "execution_count": 1,
      "outputs": []
    },
    {
      "cell_type": "markdown",
      "metadata": {
        "id": "5O40nKZgd0Fi"
      },
      "source": [
        "Data Set"
      ]
    },
    {
      "cell_type": "code",
      "metadata": {
        "id": "EJ1tRCEHdYZ2"
      },
      "source": [
        "BITSTREAMVERA = pd.read_csv(\"https://raw.githubusercontent.com/skduong/font-analysis/master/fonts/BITSTREAMVERA.csv\")\n",
        "CONSOLAS = pd.read_csv(\"https://raw.githubusercontent.com/skduong/font-analysis/master/fonts/CONSOLAS.csv\")\n",
        "EBRIMA = pd.read_csv(\"https://raw.githubusercontent.com/skduong/font-analysis/master/fonts/EBRIMA.csv\")"
      ],
      "execution_count": 2,
      "outputs": []
    },
    {
      "cell_type": "markdown",
      "metadata": {
        "id": "uBuPq6k4il5e"
      },
      "source": [
        "Cleaning and Sorting"
      ]
    },
    {
      "cell_type": "code",
      "metadata": {
        "id": "v1oIjmecfQPN"
      },
      "source": [
        "drop_names = [\"fontVariant\", \"m_label\", \"orientation\", \"m_top\", \"m_left\", \"originalH\", \"originalW\", \"h\", \"w\"]\n",
        "\n",
        "CL1 = BITSTREAMVERA.dropna()\n",
        "CL1.drop(columns = drop_names, inplace = True)\n",
        "CL1.drop(CL1[(CL1[\"strength\"] != 0.4) | (CL1[\"italic\"] != 0)].index, inplace = True)\n",
        "\n",
        "CL2 = CONSOLAS.dropna()\n",
        "CL2.drop(columns = drop_names, inplace = True)\n",
        "CL2.drop(CL2[(CL2[\"strength\"] != 0.4) | (CL2[\"italic\"] != 0)].index, inplace = True)\n",
        "\n",
        "CL3 = EBRIMA.dropna()\n",
        "CL3.drop(columns = drop_names, inplace = True)\n",
        "CL3.drop(CL3[(CL3[\"strength\"] != 0.4) | (CL3[\"italic\"] != 0)].index, inplace = True)\n",
        "\n",
        "DATA = pd.concat([CL1, CL2, CL3], ignore_index=True)"
      ],
      "execution_count": 3,
      "outputs": []
    },
    {
      "cell_type": "markdown",
      "metadata": {
        "id": "CkEj1bThLex6"
      },
      "source": [
        "Standardize"
      ]
    },
    {
      "cell_type": "code",
      "metadata": {
        "id": "VVsH7BmnQvgC"
      },
      "source": [
        "for cl in [CL1, CL2, CL3]:\n",
        "    cl[cl.columns[3:]] = pd.DataFrame(StandardScaler().fit_transform(cl[cl.columns[3:]]))\n",
        "\n",
        "SDATA = pd.concat([CL1,CL2,CL3], ignore_index = True)"
      ],
      "execution_count": 4,
      "outputs": []
    },
    {
      "cell_type": "markdown",
      "metadata": {
        "id": "uJEEF6Fxr8BC"
      },
      "source": [
        "correlation matrix"
      ]
    },
    {
      "cell_type": "code",
      "metadata": {
        "id": "EACPoLcVKTjV"
      },
      "source": [
        "CORR = DATA[3:].corr()"
      ],
      "execution_count": 5,
      "outputs": []
    },
    {
      "cell_type": "markdown",
      "metadata": {
        "id": "g2UybSnksFH1"
      },
      "source": [
        "#re-classifying the new data"
      ]
    },
    {
      "cell_type": "markdown",
      "metadata": {
        "id": "xR3crIlasOyx"
      },
      "source": [
        "define test&training sets"
      ]
    },
    {
      "cell_type": "code",
      "metadata": {
        "id": "gMTAgId_sPbn"
      },
      "source": [
        "#create train/test set\n",
        "train, test = train_test_split(SDATA, test_size = 0.2, random_state = 0)\n",
        "\n",
        "x_train = train.drop(['font', 'strength', 'italic'], axis=1)\n",
        "x_test = test.drop(['font', 'strength', 'italic'], axis=1)\n",
        "\n",
        "y_train = train['font']\n",
        "y_test = test['font']"
      ],
      "execution_count": 6,
      "outputs": []
    },
    {
      "cell_type": "markdown",
      "metadata": {
        "id": "qkroKx4-0_E_"
      },
      "source": [
        "#finding H0 and H*"
      ]
    },
    {
      "cell_type": "code",
      "metadata": {
        "id": "9bUjiNrV1GvJ",
        "colab": {
          "base_uri": "https://localhost:8080/",
          "height": 1000
        },
        "outputId": "faf0eeb2-646c-4761-d025-b430c9e994cf"
      },
      "source": [
        "#H0:\n",
        "pca = PCA(n_components = 400)\n",
        "pca.fit_transform(SDATA[SDATA.columns[3:]])\n",
        "pev = pca.explained_variance_ratio_.cumsum()\n",
        "h0 = np.where(pev>=0.95)[0][0]+1\n",
        "plt.plot(pev, 'o'); plt.ylabel('PEV'); plt.xlabel('h'); plt.show() #plot PVE\n",
        "\n",
        "#H*:\n",
        "hi = []\n",
        "for i in [CL1, CL2, CL3]:\n",
        "  pca = PCA(n_components = 400)\n",
        "  pca.fit_transform(i[i.columns[3:]])\n",
        "  pev = pca.explained_variance_ratio_.cumsum()\n",
        "  hi.append(np.where(pev >= 0.99)[0][0]+1)\n",
        "  print(i['font'][0], '\\n')\n",
        "  plt.plot(pev, 'o'); plt.ylabel('PEV'); plt.xlabel('h'); plt.show() #plot PVE\n",
        "  \n",
        "h_star = sum(hi)"
      ],
      "execution_count": 7,
      "outputs": [
        {
          "output_type": "display_data",
          "data": {
            "image/png": "[encoded data removed]",
            "text/plain": [
              "<Figure size 432x288 with 1 Axes>"
            ]
          },
          "metadata": {
            "tags": [],
            "needs_background": "light"
          }
        },
        {
          "output_type": "stream",
          "text": [
            "BITSTREAMVERA \n",
            "\n"
          ],
          "name": "stdout"
        },
        {
          "output_type": "display_data",
          "data": {
            "image/png": "[encoded data removed]",
            "text/plain": [
              "<Figure size 432x288 with 1 Axes>"
            ]
          },
          "metadata": {
            "tags": [],
            "needs_background": "light"
          }
        },
        {
          "output_type": "stream",
          "text": [
            "CONSOLAS \n",
            "\n"
          ],
          "name": "stdout"
        },
        {
          "output_type": "display_data",
          "data": {
            "image/png": "[encoded data removed]",
            "text/plain": [
              "<Figure size 432x288 with 1 Axes>"
            ]
          },
          "metadata": {
            "tags": [],
            "needs_background": "light"
          }
        },
        {
          "output_type": "stream",
          "text": [
            "EBRIMA \n",
            "\n"
          ],
          "name": "stdout"
        },
        {
          "output_type": "display_data",
          "data": {
            "image/png": "[encoded data removed]",
            "text/plain": [
              "<Figure size 432x288 with 1 Axes>"
            ]
          },
          "metadata": {
            "tags": [],
            "needs_background": "light"
          }
        }
      ]
    },
    {
      "cell_type": "markdown",
      "metadata": {
        "id": "PU842EBF1bQq"
      },
      "source": [
        "MLP0"
      ]
    },
    {
      "cell_type": "code",
      "metadata": {
        "id": "FUFdj3Q-1cpT",
        "colab": {
          "base_uri": "https://localhost:8080/",
          "height": 313
        },
        "outputId": "0e0b0551-147d-4f90-bbb4-41791fa44df1"
      },
      "source": [
        "import tensorflow as tf\n",
        "from tensorflow import keras\n",
        "from tensorflow.keras import layers, callbacks\n",
        "from tensorflow.keras.models import load_model\n",
        "tf.get_logger().setLevel('ERROR') #surpress logging \n",
        "\n",
        "def plotPerf(monitor):\n",
        "  plt.plot(monitor.model.history.history['loss'], label = 'Training loss')\n",
        "  plt.plot(monitor.model.history.history['val_loss'], label = 'Test loss')\n",
        "  plt.xlabel('Epoch'); plt.ylabel('Loss (CrossEntr)')\n",
        "  plt.legend(); plt.grid(True); plt.show()\n",
        "\n",
        "def ypred(x, model):\n",
        "  return list(map({0:'BITSTREAMVERA', 1:'CONSOLAS', 2:'EBRIMA'}.get, model.predict(x).argmax(axis = -1)))\n",
        "\n",
        "def conf(actu, pred):\n",
        "  y_actu = pd.Series(np.array(actu), name = 'Actual')\n",
        "  y_pred = pd.Series(pred, name = 'Predicted')\n",
        "  df_confusion = pd.crosstab(y_actu, y_pred)\n",
        "  return df_confusion/ df_confusion.sum()\n",
        "\n",
        "inputs = keras.Input(shape = (400,))\n",
        "x1 = layers.Dense(h0,activation = \"sigmoid\")(inputs)\n",
        "outputs = layers.Dense(3, activation = \"softmax\")(x1)\n",
        "model0 = keras.Model(inputs = inputs,outputs = outputs)\n",
        "#model0.summary()\n",
        "\n",
        "optimizer = keras.optimizers.Adam()\n",
        "loss_fn = keras.losses.SparseCategoricalCrossentropy()\n",
        "model0.compile(optimizer = optimizer,loss = loss_fn, metrics = ['accuracy'])\n",
        "batch = round(len(train)**0.5)\n",
        "Monitor0 = model0.fit(x_train, y_train.astype('category').cat.codes, epochs = 150, batch_size = batch,\n",
        "                      validation_data = (x_test, y_test.astype('category').cat.codes), verbose = 0)\n",
        "\n",
        "print('MLP0:\\n')\n",
        "plotPerf(Monitor0) #visually find stabT, overfitT, stopT\n"
      ],
      "execution_count": 8,
      "outputs": [
        {
          "output_type": "stream",
          "text": [
            "MLP0:\n",
            "\n"
          ],
          "name": "stdout"
        },
        {
          "output_type": "display_data",
          "data": {
            "image/png": "[encoded data removed]",
            "text/plain": [
              "<Figure size 432x288 with 1 Axes>"
            ]
          },
          "metadata": {
            "tags": [],
            "needs_background": "light"
          }
        }
      ]
    },
    {
      "cell_type": "markdown",
      "metadata": {
        "id": "42ewwr3kJn6Q"
      },
      "source": [
        "Confusion Matrices for StabT"
      ]
    },
    {
      "cell_type": "code",
      "metadata": {
        "id": "cVzkp5EzJniG",
        "colab": {
          "base_uri": "https://localhost:8080/"
        },
        "outputId": "31d1ecd9-9c18-455b-8093-071481216a71"
      },
      "source": [
        "stabT = 45\n",
        "\n",
        "class CustomSaver(keras.callbacks.Callback):\n",
        "    def on_epoch_end(self, epoch, logs={}):\n",
        "        if epoch == stabT:\n",
        "            self.model.save(\"modelh0_{}\".format(epoch))\n",
        "\n",
        "checkpoint = CustomSaver()\n",
        "inputs = keras.Input(shape = (400,))\n",
        "x1 = layers.Dense(h0,activation = \"sigmoid\")(inputs)\n",
        "outputs = layers.Dense(3, activation = \"softmax\")(x1)\n",
        "\n",
        "model0 = keras.Model(inputs = inputs,outputs = outputs)\n",
        "model0.compile(optimizer = optimizer, loss = loss_fn,  metrics = ['accuracy'])\n",
        "model0.fit(x_train, y_train.astype('category').cat.codes, epochs = stabT+1, batch_size = batch,\n",
        "                      validation_data = (x_test, y_test.astype('category').cat.codes), callbacks = [checkpoint], verbose = 0)\n",
        "\n",
        "model0_stab = load_model(\"modelh0_{}\".format(stabT))\n",
        "trainConf0 = conf(y_train, ypred(x_train, model0_stab))\n",
        "print('MLP0 train:\\n', trainConf0)\n",
        "testConf0 = conf(y_test, ypred(x_test, model0_stab))\n",
        "print('\\nMLP0 test:\\n', testConf0)"
      ],
      "execution_count": 9,
      "outputs": [
        {
          "output_type": "stream",
          "text": [
            "MLP0 train:\n",
            " Predicted      BITSTREAMVERA  CONSOLAS  EBRIMA\n",
            "Actual                                        \n",
            "BITSTREAMVERA            1.0  0.000000     0.0\n",
            "CONSOLAS                 0.0  0.999449     0.0\n",
            "EBRIMA                   0.0  0.000551     1.0\n",
            "\n",
            "MLP0 test:\n",
            " Predicted      BITSTREAMVERA  CONSOLAS    EBRIMA\n",
            "Actual                                          \n",
            "BITSTREAMVERA       0.976496  0.001898  0.007519\n",
            "CONSOLAS            0.008547  0.821632  0.127820\n",
            "EBRIMA              0.014957  0.176471  0.864662\n"
          ],
          "name": "stdout"
        }
      ]
    },
    {
      "cell_type": "markdown",
      "metadata": {
        "id": "QfBqKnf-1-tn"
      },
      "source": [
        "MLP*"
      ]
    },
    {
      "cell_type": "code",
      "metadata": {
        "id": "MatJWIUZ2AAL",
        "colab": {
          "base_uri": "https://localhost:8080/",
          "height": 643
        },
        "outputId": "27d99b37-6b46-45ab-9e04-d694de88d3a3"
      },
      "source": [
        "#define sparsity regularization layer\n",
        "class SparsityRegularizationLayer(layers.Layer):\n",
        "  def __init__(self, C=0.01, Tar=0.01, **kwargs):\n",
        "        super().__init__(**kwargs)\n",
        "        self.C = C\n",
        "        self.Tar = Tar\n",
        "\n",
        "  def call(self, inputs):\n",
        "    avAL = tf.reduce_mean(inputs)\n",
        "    self.add_loss(  self.C * (  -1*self.Tar*tf.math.log(avAL) + (self.Tar-1)*tf.math.log(1-avAL)  )  )\n",
        "    return inputs\n",
        "\n",
        "  def get_config(self):\n",
        "        config = super().get_config().copy()\n",
        "        config.update({\n",
        "            'C': self.C,\n",
        "            'Tar': self.Tar,\n",
        "        })\n",
        "        return config\n",
        "\n",
        "#Sparsity TAR = 10%\n",
        "inputs = keras.Input(shape = (400,))\n",
        "x1 = layers.Dense(h_star,activation = \"sigmoid\")(inputs)\n",
        "x1 = SparsityRegularizationLayer(C = 0.15, Tar = 0.1)(x1)\n",
        "outputs = layers.Dense(3, activation = \"softmax\")(x1)\n",
        "\n",
        "modelh10 = keras.Model(inputs = inputs, outputs = outputs)\n",
        "modelh10.compile(optimizer = optimizer, loss = loss_fn, metrics = ['accuracy'])\n",
        "\n",
        "Monitorh10 = modelh10.fit(x_train, y_train.astype('category').cat.codes,epochs = 150, batch_size = batch,\n",
        "                      validation_data = (x_test, y_test.astype('category').cat.codes), verbose = 0)\n",
        "print('MLP* TAR=10%:\\n')\n",
        "plotPerf(Monitorh10) #visually find stabT, overfitT, stopT\n",
        "\n",
        "#Sparsity TAR = 20%\n",
        "inputs = keras.Input(shape = (400,))\n",
        "x2 = layers.Dense(h_star,activation = \"sigmoid\")(inputs)\n",
        "x2 = SparsityRegularizationLayer(C = 0.15, Tar = 0.2)(x2)\n",
        "outputs = layers.Dense(3, activation = \"softmax\")(x2)\n",
        "modelh20 = keras.Model(inputs = inputs, outputs = outputs)\n",
        "modelh20.compile(optimizer = optimizer, loss = loss_fn, metrics = ['accuracy'])\n",
        "\n",
        "Monitorh20 = modelh20.fit(x_train, y_train.astype('category').cat.codes,epochs = 150, batch_size = batch,\n",
        "                      validation_data = (x_test, y_test.astype('category').cat.codes), verbose = 0)\n",
        "print('\\n\\nMLP* TAR=20%:\\n')\n",
        "plotPerf(Monitorh20) #visually find stabT, overfitT, stopT\n"
      ],
      "execution_count": 10,
      "outputs": [
        {
          "output_type": "stream",
          "text": [
            "MLP* TAR=10%:\n",
            "\n"
          ],
          "name": "stdout"
        },
        {
          "output_type": "display_data",
          "data": {
            "image/png": "[encoded data removed]",
            "text/plain": [
              "<Figure size 432x288 with 1 Axes>"
            ]
          },
          "metadata": {
            "tags": [],
            "needs_background": "light"
          }
        },
        {
          "output_type": "stream",
          "text": [
            "\n",
            "\n",
            "MLP* TAR=20%:\n",
            "\n"
          ],
          "name": "stdout"
        },
        {
          "output_type": "display_data",
          "data": {
            "image/png": "[encoded data removed]",
            "text/plain": [
              "<Figure size 432x288 with 1 Axes>"
            ]
          },
          "metadata": {
            "tags": [],
            "needs_background": "light"
          }
        }
      ]
    },
    {
      "cell_type": "markdown",
      "metadata": {
        "id": "SbmI_z1jVBp0"
      },
      "source": [
        "Confusion Matrices"
      ]
    },
    {
      "cell_type": "code",
      "metadata": {
        "id": "i3WCHyUTLfvZ",
        "colab": {
          "base_uri": "https://localhost:8080/"
        },
        "outputId": "d9a2d835-ae6d-4dbe-d372-5d8e2c2d3aa2"
      },
      "source": [
        "#TAR=10%\n",
        "stabT1 = 45\n",
        "\n",
        "class CustomSaver(keras.callbacks.Callback):\n",
        "    def on_epoch_end(self, epoch, logs = {}):\n",
        "        if epoch == stabT1:\n",
        "            self.model.save(\"modelh10_{}\".format(epoch))\n",
        "\n",
        "checkpoint = CustomSaver()\n",
        "inputs = keras.Input(shape = (400,))\n",
        "x1 = layers.Dense(h_star,activation = \"sigmoid\")(inputs)\n",
        "x1 = SparsityRegularizationLayer(C = 0.15, Tar = 0.1)(x1)\n",
        "outputs = layers.Dense(3, activation = \"softmax\")(x1)\n",
        "modelh10 = keras.Model(inputs = inputs, outputs = outputs)\n",
        "modelh10.compile(optimizer = optimizer, loss = loss_fn, metrics = ['accuracy'])\n",
        "modelh10.fit(x_train, y_train.astype('category').cat.codes,epochs = stabT1+1, batch_size = batch,\n",
        "                      validation_data = (x_test, y_test.astype('category').cat.codes),callbacks = [checkpoint], verbose = 0)\n",
        "\n",
        "modelh10_stab = load_model(\"modelh10_{}\".format(stabT1))\n",
        "\n",
        "#TAR=20%\n",
        "stabT2 = 45\n",
        "class CustomSaver(keras.callbacks.Callback):\n",
        "    def on_epoch_end(self, epoch, logs = {}):\n",
        "        if epoch == stabT2:\n",
        "            self.model.save(\"modelh20_{}\".format(epoch))\n",
        "\n",
        "checkpoint = CustomSaver()\n",
        "inputs = keras.Input(shape = (400,))\n",
        "\n",
        "x2 = layers.Dense(h_star,activation = \"sigmoid\")(inputs)\n",
        "x2 = SparsityRegularizationLayer(C = 0.15, Tar = 0.2)(x2)\n",
        "outputs = layers.Dense(3, activation = \"softmax\")(x2)\n",
        "\n",
        "modelh20 = keras.Model(inputs = inputs, outputs = outputs)\n",
        "modelh20.compile(optimizer=optimizer,loss=loss_fn, metrics=['accuracy'])\n",
        "modelh20.fit(x_train, y_train.astype('category').cat.codes, epochs = stabT2+1, batch_size = batch,\n",
        "                      validation_data = (x_test, y_test.astype('category').cat.codes), callbacks = [checkpoint], verbose = 0)\n",
        "\n",
        "modelh20_stab = load_model(\"modelh20_{}\".format(stabT2))\n",
        "\n",
        "#conf matrices\n",
        "print('MLP* TAR=10%:\\n')\n",
        "trainConfh10 = conf(y_train, ypred(x_train, modelh10_stab))\n",
        "print('MLP* train:\\n', trainConfh10)\n",
        "testConfh10 = conf(y_test, ypred(x_test, modelh10_stab))\n",
        "print('\\nMLP* test:\\n', testConfh10)\n",
        "\n",
        "print('\\n\\nMLP* TAR=20%:\\n')\n",
        "trainConfh20 = conf(y_train, ypred(x_train, modelh20_stab))\n",
        "print('MLP* train:\\n', trainConfh20)\n",
        "testConfh20 = conf(y_test, ypred(x_test, modelh20_stab))\n",
        "print('\\nMLP* test:\\n', testConfh20)"
      ],
      "execution_count": 11,
      "outputs": [
        {
          "output_type": "stream",
          "text": [
            "MLP* TAR=10%:\n",
            "\n",
            "MLP* train:\n",
            " Predicted      BITSTREAMVERA  CONSOLAS  EBRIMA\n",
            "Actual                                        \n",
            "BITSTREAMVERA            1.0       0.0     0.0\n",
            "CONSOLAS                 0.0       1.0     0.0\n",
            "EBRIMA                   0.0       0.0     1.0\n",
            "\n",
            "MLP* test:\n",
            " Predicted      BITSTREAMVERA  CONSOLAS    EBRIMA\n",
            "Actual                                          \n",
            "BITSTREAMVERA       0.993506  0.000000  0.003333\n",
            "CONSOLAS            0.002165  0.875752  0.110000\n",
            "EBRIMA              0.004329  0.124248  0.886667\n",
            "\n",
            "\n",
            "MLP* TAR=20%:\n",
            "\n",
            "MLP* train:\n",
            " Predicted      BITSTREAMVERA  CONSOLAS  EBRIMA\n",
            "Actual                                        \n",
            "BITSTREAMVERA            1.0       0.0     0.0\n",
            "CONSOLAS                 0.0       1.0     0.0\n",
            "EBRIMA                   0.0       0.0     1.0\n",
            "\n",
            "MLP* test:\n",
            " Predicted      BITSTREAMVERA  CONSOLAS    EBRIMA\n",
            "Actual                                          \n",
            "BITSTREAMVERA       0.989201  0.000000  0.006601\n",
            "CONSOLAS            0.000000  0.882828  0.112211\n",
            "EBRIMA              0.010799  0.117172  0.881188\n"
          ],
          "name": "stdout"
        }
      ]
    },
    {
      "cell_type": "markdown",
      "metadata": {
        "id": "TnEe_3HIUWmP"
      },
      "source": [
        "#MLP* Activity"
      ]
    },
    {
      "cell_type": "code",
      "metadata": {
        "id": "xhg08HMRUbr4",
        "colab": {
          "base_uri": "https://localhost:8080/",
          "height": 265
        },
        "outputId": "b58a8c2b-f303-45d0-b12a-9f8bc7b86a54"
      },
      "source": [
        "#performance is about the same for both sparsity levels\n",
        "modelh = modelh20_stab\n",
        "activity = modelh.layers[1](np.array(SDATA[SDATA.columns[3:]])).numpy()\n",
        "ACTn = np.mean(activity, axis = 1)\n",
        "pd.Series(ACTn).plot.hist()\n",
        "avact = np.mean(ACTn)\n",
        "stdact = np.std(ACTn)\n",
        "per_half = sum(ACTn < avact/2)/len(ACTn)\n",
        "per_third = sum(ACTn < avact/3)/len(ACTn)\n"
      ],
      "execution_count": 12,
      "outputs": [
        {
          "output_type": "display_data",
          "data": {
            "image/png": "[encoded data removed]",
            "text/plain": [
              "<Figure size 432x288 with 1 Axes>"
            ]
          },
          "metadata": {
            "tags": [],
            "needs_background": "light"
          }
        }
      ]
    },
    {
      "cell_type": "markdown",
      "metadata": {
        "id": "-W1IJqcFVwbt"
      },
      "source": [
        "#Autoencoder"
      ]
    },
    {
      "cell_type": "markdown",
      "metadata": {
        "id": "X6X7fYeoV8e7"
      },
      "source": [
        "PCA on zn to get size s"
      ]
    },
    {
      "cell_type": "code",
      "metadata": {
        "id": "qRaEqH-7V2hH"
      },
      "source": [
        "zn = modelh.layers[1](np.array(SDATA[SDATA.columns[3:]])).numpy() #Xn -> Zn:\n",
        "pca = PCA(n_components = zn.shape[1])\n",
        "pca.fit_transform(zn)\n",
        "pev = pca.explained_variance_ratio_.cumsum()\n",
        "s = np.where(pev>=0.95)[0][0]+1\n",
        "#plt.plot(pev, 'o'); plt.ylabel('PEV'); plt.xlabel('s'); plt.show() #plot PVE\n"
      ],
      "execution_count": 13,
      "outputs": []
    },
    {
      "cell_type": "markdown",
      "metadata": {
        "id": "_PKrmZtKV7td"
      },
      "source": [
        "Build autoencoder"
      ]
    },
    {
      "cell_type": "code",
      "metadata": {
        "id": "6RRL0Gd7WLHk"
      },
      "source": [
        "z_test = modelh.layers[1](np.array(x_test)).numpy()\n",
        "z_train = modelh.layers[1](np.array(x_train)).numpy()\n",
        "\n",
        "inputs = keras.Input(shape = (h_star,))\n",
        "x1 = layers.Dense(s,activation = \"sigmoid\")(inputs)\n",
        "outputs = layers.Dense(h_star, activation = \"sigmoid\")(x1)\n",
        "\n",
        "autoEncoder = keras.Model(inputs = inputs, outputs = outputs)\n",
        "autoEncoder.compile(optimizer=optimizer,loss=keras.losses.MeanSquaredError())\n",
        "checkpoint = callbacks.ModelCheckpoint(filepath = 'encoder', monitor = 'val_loss', save_best_only = True)\n",
        "Monitor = autoEncoder.fit(z_train, z_train,epochs = 80, batch_size = batch, validation_data = (z_test, z_test), callbacks = [checkpoint], verbose = 0)\n",
        "autoEncoder = load_model('encoder')"
      ],
      "execution_count": 14,
      "outputs": []
    },
    {
      "cell_type": "markdown",
      "metadata": {
        "id": "wcIO1tqnWQe0"
      },
      "source": [
        "MPL**"
      ]
    },
    {
      "cell_type": "code",
      "metadata": {
        "id": "cNmeHdDyWXSo",
        "colab": {
          "base_uri": "https://localhost:8080/"
        },
        "outputId": "d0789916-cbbf-48c2-a528-c5027229c372"
      },
      "source": [
        "model = load_model('encoder')\n",
        "\n",
        "#Xn -> Zn -> Kn:\n",
        "kn = model.layers[1](zn).numpy()\n",
        "kn_test = model.layers[1](z_test).numpy()\n",
        "kn_train = model.layers[1](z_train).numpy()\n",
        "\n",
        "#Kn -> (Out) -> P(n)\n",
        "inputs = keras.Input(shape = (kn.shape[1],))\n",
        "outputs = layers.Dense(3, activation = \"softmax\")(inputs)\n",
        "modelhstar2 = keras.Model(inputs = inputs, outputs = outputs)\n",
        "modelhstar2.compile(optimizer = optimizer, loss = loss_fn, metrics = ['accuracy'])\n",
        "checkpoint = callbacks.ModelCheckpoint(filepath = 'BestModel_hstar2', monitor = 'val_accuracy', save_best_only = True)\n",
        "Monitor2 = modelhstar2.fit(kn_train, y_train.astype('category').cat.codes, epochs = 150, batch_size = batch,\n",
        "                      validation_data = (kn_test, y_test.astype('category').cat.codes), callbacks = [checkpoint], verbose = 0)\n",
        "\n",
        "trainConf2 = conf(y_train, ypred(kn_train, Monitor2.model))\n",
        "print('MLP** train:\\n', trainConf2)\n",
        "testConf2 = conf(y_test, ypred(kn_test, Monitor2.model))\n",
        "print('\\nMLP** test:\\n', testConf2)"
      ],
      "execution_count": 15,
      "outputs": [
        {
          "output_type": "stream",
          "text": [
            "MLP** train:\n",
            " Predicted      BITSTREAMVERA  CONSOLAS  EBRIMA\n",
            "Actual                                        \n",
            "BITSTREAMVERA            1.0       0.0     0.0\n",
            "CONSOLAS                 0.0       1.0     0.0\n",
            "EBRIMA                   0.0       0.0     1.0\n",
            "\n",
            "MLP** test:\n",
            " Predicted      BITSTREAMVERA  CONSOLAS    EBRIMA\n",
            "Actual                                          \n",
            "BITSTREAMVERA       0.987069  0.002008  0.003344\n",
            "CONSOLAS            0.002155  0.879518  0.107023\n",
            "EBRIMA              0.010776  0.118474  0.889632\n"
          ],
          "name": "stdout"
        }
      ]
    },
    {
      "cell_type": "code",
      "metadata": {
        "id": "LzLAPrW_0xlJ",
        "colab": {
          "base_uri": "https://localhost:8080/",
          "height": 279
        },
        "outputId": "e909ff1a-a444-44bf-cc4a-0a471e674064"
      },
      "source": [
        "def plotPerf2(monitor):\n",
        "  plt.plot(monitor.model.history.history['loss'], label = 'Training loss')\n",
        "  plt.plot(monitor.model.history.history['val_loss'], label = 'Test loss')\n",
        "  plt.xlabel('Epoch'); plt.ylabel('MSE')\n",
        "  plt.legend(); plt.grid(True); plt.show()\n",
        "\n",
        "plotPerf2(Monitor)"
      ],
      "execution_count": 16,
      "outputs": [
        {
          "output_type": "display_data",
          "data": {
            "image/png": "[encoded data removed]",
            "text/plain": [
              "<Figure size 432x288 with 1 Axes>"
            ]
          },
          "metadata": {
            "tags": [],
            "needs_background": "light"
          }
        }
      ]
    }
  ]
}